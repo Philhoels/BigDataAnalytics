{
 "cells": [
  {
   "cell_type": "code",
   "execution_count": 1,
   "metadata": {},
   "outputs": [],
   "source": [
    "from pyspark import SparkContext\n",
    "from pyspark.sql.session import SparkSession\n",
    "from pyspark.sql import SQLContext, Row  \n",
    "from pyspark.sql import functions as F\n",
    "sc =SparkContext()\n",
    "spark = SparkSession(sc)\n",
    "sqlContext=SQLContext(sc)"
   ]
  },
  {
   "cell_type": "code",
   "execution_count": 2,
   "metadata": {},
   "outputs": [
    {
     "name": "stdout",
     "output_type": "stream",
     "text": [
      "+----+----------+-----+-------+-------+--------+----+\n",
      "|Temp|      date|month|quality|station|    time|year|\n",
      "+----+----------+-----+-------+-------+--------+----+\n",
      "| 6.8|2013-11-01|   11|      G| 102170|06:00:00|2013|\n",
      "| 3.8|2013-11-01|   11|      G| 102170|18:00:00|2013|\n",
      "| 5.8|2013-11-02|   11|      G| 102170|06:00:00|2013|\n",
      "|-1.1|2013-11-02|   11|      G| 102170|18:00:00|2013|\n",
      "|-0.2|2013-11-03|   11|      G| 102170|06:00:00|2013|\n",
      "| 5.6|2013-11-03|   11|      G| 102170|18:00:00|2013|\n",
      "| 6.5|2013-11-04|   11|      G| 102170|06:00:00|2013|\n",
      "| 5.1|2013-11-04|   11|      G| 102170|18:00:00|2013|\n",
      "| 4.2|2013-11-05|   11|      G| 102170|06:00:00|2013|\n",
      "| 3.2|2013-11-05|   11|      G| 102170|18:00:00|2013|\n",
      "| 1.7|2013-11-06|   11|      G| 102170|06:00:00|2013|\n",
      "| 0.9|2013-11-06|   11|      G| 102170|18:00:00|2013|\n",
      "|-0.1|2013-11-07|   11|      G| 102170|06:00:00|2013|\n",
      "| 0.1|2013-11-07|   11|      G| 102170|18:00:00|2013|\n",
      "|-1.2|2013-11-08|   11|      G| 102170|06:00:00|2013|\n",
      "| 5.3|2013-11-08|   11|      G| 102170|18:00:00|2013|\n",
      "| 5.6|2013-11-09|   11|      G| 102170|06:00:00|2013|\n",
      "| 3.8|2013-11-09|   11|      G| 102170|18:00:00|2013|\n",
      "| 2.2|2013-11-10|   11|      G| 102170|06:00:00|2013|\n",
      "|-1.7|2013-11-10|   11|      G| 102170|18:00:00|2013|\n",
      "+----+----------+-----+-------+-------+--------+----+\n",
      "only showing top 20 rows\n",
      "\n"
     ]
    }
   ],
   "source": [
    "temps= sc.textFile(\"C:/Users/quartermaine/Documents/Big Data Analytics Labs/temperature-readings-tiny.csv\")\n",
    "parts_temp = temps.map(lambda l:l.split(\";\"))\n",
    "tempReadings = parts_temp.map(lambda p: Row(station=p[0],  date=p[1], year=p[1].split(\"-\")[0],month=p[1].split(\"-\")[1], time=p[2],  Temp=float(p[3]), quality=p[4]))\n",
    "#Inferring the schema and registering the DataFrame as atable\n",
    "schemaTempReadings =  sqlContext.createDataFrame(tempReadings)\n",
    "schemaTempReadings.registerTempTable(\"tempReadings\")\n",
    "schemaTempReadings.show()"
   ]
  },
  {
   "cell_type": "code",
   "execution_count": 7,
   "metadata": {},
   "outputs": [
    {
     "name": "stdout",
     "output_type": "stream",
     "text": [
      "+----------+-----+------+-------+-------+--------+----+\n",
      "|      date|month|precip|quality|station|    time|year|\n",
      "+----------+-----+------+-------+-------+--------+----+\n",
      "|1995-08-01|    8|   0.0|      Y| 103100|00:00:00|1995|\n",
      "|1995-08-01|    8|   0.0|      Y| 103100|01:00:00|1995|\n",
      "|1995-08-01|    8|   0.0|      Y| 103100|02:00:00|1995|\n",
      "|1995-08-01|    8|   0.0|      Y| 103100|03:00:00|1995|\n",
      "|1995-08-01|    8|   0.0|      Y| 103100|04:00:00|1995|\n",
      "|1995-08-01|    8|   0.0|      Y| 103100|05:00:00|1995|\n",
      "|1995-08-01|    8|   0.0|      Y| 103100|06:00:00|1995|\n",
      "|1995-08-01|    8|   0.0|      Y| 103100|07:00:00|1995|\n",
      "|1995-08-01|    8|   0.0|      Y| 103100|08:00:00|1995|\n",
      "|1995-08-01|    8|   0.0|      Y| 103100|09:00:00|1995|\n",
      "|1995-08-01|    8|   0.0|      Y| 103100|10:00:00|1995|\n",
      "|1995-08-01|    8|   0.0|      Y| 103100|11:00:00|1995|\n",
      "|1995-08-01|    8|   0.0|      Y| 103100|12:00:00|1995|\n",
      "|1995-08-01|    8|   0.0|      Y| 103100|13:00:00|1995|\n",
      "|1995-08-01|    8|   0.0|      Y| 103100|14:00:00|1995|\n",
      "|1995-08-01|    8|   0.0|      Y| 103100|15:00:00|1995|\n",
      "|1995-08-01|    8|   0.0|      Y| 103100|16:00:00|1995|\n",
      "|1995-08-01|    8|   0.0|      Y| 103100|17:00:00|1995|\n",
      "|1995-08-01|    8|   0.0|      Y| 103100|18:00:00|1995|\n",
      "|1995-08-01|    8|   0.0|      Y| 103100|19:00:00|1995|\n",
      "+----------+-----+------+-------+-------+--------+----+\n",
      "only showing top 20 rows\n",
      "\n"
     ]
    }
   ],
   "source": [
    "precipitation = sc.textFile(\"C:/Users/quartermaine/Documents/Big Data Analytics Labs/precipitation-readings.csv\")\n",
    "\n",
    "parts_precip = precipitation.map(lambda a: a.split(';'))\n",
    "precReadingsRow = parts_precip.map(lambda x: Row(station=x[0], date=x[1], year=int(x[1].split(\"-\")[0]), month=int(x[1].split(\"-\")[1]), time=x[2], precip=float(x[3]), quality=x[4]))\n",
    "precReadingsRow = sqlContext.createDataFrame(precReadingsRow)\n",
    "precReadingsRow.registerTempTable(\"precipReadings\")\n",
    "precReadingsRow.show()"
   ]
  },
  {
   "cell_type": "code",
   "execution_count": 23,
   "metadata": {},
   "outputs": [],
   "source": [
    "sch=schemaTempReadings.groupby('station').agg(F.max('Temp').alias('maxTemp'))\n",
    "sch1=sch.filter( (sch['maxTemp'] >25) & (sch['maxTemp'] <30) )"
   ]
  },
  {
   "cell_type": "code",
   "execution_count": 24,
   "metadata": {},
   "outputs": [],
   "source": [
    "prec=precReadingsRow.groupby('station').agg(F.max('precip').alias('maxPrecip'))\n",
    "prec1=prec.filter( (prec['maxPrecip'] >100) & (prec['maxPrecip'] <200) )"
   ]
  },
  {
   "cell_type": "code",
   "execution_count": 27,
   "metadata": {},
   "outputs": [
    {
     "name": "stdout",
     "output_type": "stream",
     "text": [
      "+-------+-------+---------+\n",
      "|station|maxTemp|maxPrecip|\n",
      "+-------+-------+---------+\n",
      "+-------+-------+---------+\n",
      "\n"
     ]
    }
   ],
   "source": [
    "joinedSchema=sch1.join(prec1,'station')\n",
    "joinedSchema.show()"
   ]
  }
 ],
 "metadata": {
  "kernelspec": {
   "display_name": "Python 3",
   "language": "python",
   "name": "python3"
  },
  "language_info": {
   "codemirror_mode": {
    "name": "ipython",
    "version": 3
   },
   "file_extension": ".py",
   "mimetype": "text/x-python",
   "name": "python",
   "nbconvert_exporter": "python",
   "pygments_lexer": "ipython3",
   "version": "3.6.8"
  }
 },
 "nbformat": 4,
 "nbformat_minor": 2
}
