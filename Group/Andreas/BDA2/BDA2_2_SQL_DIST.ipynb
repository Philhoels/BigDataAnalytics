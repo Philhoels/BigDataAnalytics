{
 "cells": [
  {
   "cell_type": "code",
   "execution_count": 1,
   "metadata": {},
   "outputs": [],
   "source": [
    "from pyspark import SparkContext\n",
    "from pyspark.sql.session import SparkSession\n",
    "from pyspark.sql import SQLContext, Row  \n",
    "from pyspark.sql import functions as F\n",
    "sc =SparkContext()\n",
    "spark = SparkSession(sc)\n",
    "sqlContext=SQLContext(sc)"
   ]
  },
  {
   "cell_type": "code",
   "execution_count": 2,
   "metadata": {},
   "outputs": [],
   "source": [
    "temp_csv = spark.read.csv(\"temperature-readings-tiny.csv\", header=False,sep=\";\")\n",
    "df=temp_csv.selectExpr(\"_c0 as Station_number\", \"_c1 as Date\", \"_c2 as Time\", \"_c3 as Temperature\",\"_c4 as Quality\")\n",
    "df=df.withColumn('Date',F.to_date(\"Date\", \"yyyy-MM-dd\"))\n",
    "df.createOrReplaceTempView(\"temps_table\")\n"
   ]
  },
  {
   "cell_type": "code",
   "execution_count": 3,
   "metadata": {},
   "outputs": [
    {
     "name": "stdout",
     "output_type": "stream",
     "text": [
      "+----+-----+-----+\n",
      "|year|month|count|\n",
      "+----+-----+-----+\n",
      "|1955|    9|   35|\n",
      "|1955|   10|   20|\n",
      "|1956|    3|    4|\n",
      "|1956|    4|    5|\n",
      "|1956|    5|   44|\n",
      "|1956|    6|   58|\n",
      "|1956|    7|   76|\n",
      "|1956|    8|   49|\n",
      "|1956|    9|   30|\n",
      "|1956|   10|   13|\n",
      "|1957|    3|    1|\n",
      "|1957|    4|   13|\n",
      "|1957|    5|   33|\n",
      "|1957|    6|   51|\n",
      "|1957|    7|   69|\n",
      "|1957|    8|   58|\n",
      "|1957|    9|   27|\n",
      "|1957|   10|    8|\n",
      "|1958|    4|    3|\n",
      "|1958|    5|   31|\n",
      "+----+-----+-----+\n",
      "only showing top 20 rows\n",
      "\n"
     ]
    }
   ],
   "source": [
    "query_over10_distinct=\" SELECT YEAR(Date) AS year , MONTH(Date) AS month ,COUNT(DISTINCT(Temperature)) AS count \\\n",
    "FROM temps_table WHERE FLOAT(Temperature) >=10 AND YEAR(Date) >=1950 AND YEAR(Date) <= 2014 GROUP BY year,month ORDER BY year,month ASC\"\n",
    "\n",
    "spark.sql(query_over10_distinct).show()\n"
   ]
  }
 ],
 "metadata": {
  "kernelspec": {
   "display_name": "Python 3",
   "language": "python",
   "name": "python3"
  },
  "language_info": {
   "codemirror_mode": {
    "name": "ipython",
    "version": 3
   },
   "file_extension": ".py",
   "mimetype": "text/x-python",
   "name": "python",
   "nbconvert_exporter": "python",
   "pygments_lexer": "ipython3",
   "version": "3.6.8"
  }
 },
 "nbformat": 4,
 "nbformat_minor": 2
}
