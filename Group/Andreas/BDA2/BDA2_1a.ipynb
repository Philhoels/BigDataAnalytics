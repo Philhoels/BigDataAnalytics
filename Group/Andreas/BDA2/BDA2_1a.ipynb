{
 "cells": [
  {
   "cell_type": "code",
   "execution_count": 1,
   "metadata": {},
   "outputs": [],
   "source": [
    "from pyspark import SparkContext\n",
    "from pyspark.sql.session import SparkSession\n",
    "from pyspark.sql import SQLContext, Row  \n",
    "from pyspark.sql import functions as F\n",
    "sc =SparkContext()\n",
    "spark = SparkSession(sc)\n",
    "sqlContext=SQLContext(sc)\n"
   ]
  },
  {
   "cell_type": "code",
   "execution_count": 2,
   "metadata": {},
   "outputs": [],
   "source": [
    "temps= sc.textFile(\"C:/Users/quartermaine/Documents/Big Data Analytics Labs/temperature-readings-tiny.csv\")\n",
    "parts = temps.map(lambda l:l.split(\";\"))\n",
    "tempReadings = parts.map(lambda p: Row(station=p[0],  date=p[1], year=p[1].split(\"-\")[0],month=p[1].split(\"-\")[1], time=p[2],  Temp=float(p[3]), quality=p[4]))\n",
    "#Inferring the schema and registering the DataFrame as atable\n",
    "schemaTempReadings =  sqlContext.createDataFrame(tempReadings)\n",
    "schemaTempReadings.registerTempTable(\"tempReadings\")\n",
    "\n",
    "maxTempsYearStation=schemaTempReadings.select([\"year\",\"station\",\"Temp\"]).filter((schemaTempReadings['year'] <=2014) & (schemaTempReadings[\"year\"]>=1950 ))\\\n",
    ".groupby(['year','station']).agg(F.max('Temp').alias(\"max_temp\")).orderBy('max_temp',ascending=False)\n",
    "\n",
    "minTempsYearStation=schemaTempReadings.select([\"year\",\"station\",\"Temp\"]).filter((schemaTempReadings['year'] <=2014) & (schemaTempReadings[\"year\"]>=1950 ))\\\n",
    ".groupby(['year','station']).agg(F.min('Temp').alias(\"min_temp\")).orderBy('min_temp',ascending=False)"
   ]
  },
  {
   "cell_type": "code",
   "execution_count": 3,
   "metadata": {},
   "outputs": [
    {
     "name": "stdout",
     "output_type": "stream",
     "text": [
      "+----+-------+--------+\n",
      "|year|station|max_temp|\n",
      "+----+-------+--------+\n",
      "|2014| 102170|    29.1|\n",
      "|1960| 102190|    29.0|\n",
      "|1959| 102190|    28.2|\n",
      "|1958| 102190|    28.1|\n",
      "|1956| 102190|    26.0|\n",
      "|1957| 102190|    25.2|\n",
      "|1955| 102190|    20.4|\n",
      "|1961| 102190|    19.0|\n",
      "|2013| 102170|    10.2|\n",
      "+----+-------+--------+\n",
      "\n",
      "+----+-------+--------+\n",
      "|year|station|min_temp|\n",
      "+----+-------+--------+\n",
      "|2013| 102170|   -13.3|\n",
      "|1957| 102190|   -19.9|\n",
      "|1959| 102190|   -23.2|\n",
      "|1961| 102190|   -23.5|\n",
      "|2014| 102170|   -24.3|\n",
      "|1955| 102190|   -26.2|\n",
      "|1958| 102190|   -27.9|\n",
      "|1960| 102190|   -28.3|\n",
      "|1956| 102190|   -30.0|\n",
      "+----+-------+--------+\n",
      "\n"
     ]
    }
   ],
   "source": [
    "maxTempsYearStation.show()\n",
    "minTempsYearStation.show()"
   ]
  }
 ],
 "metadata": {
  "kernelspec": {
   "display_name": "Python 3",
   "language": "python",
   "name": "python3"
  },
  "language_info": {
   "codemirror_mode": {
    "name": "ipython",
    "version": 3
   },
   "file_extension": ".py",
   "mimetype": "text/x-python",
   "name": "python",
   "nbconvert_exporter": "python",
   "pygments_lexer": "ipython3",
   "version": "3.6.8"
  }
 },
 "nbformat": 4,
 "nbformat_minor": 2
}
