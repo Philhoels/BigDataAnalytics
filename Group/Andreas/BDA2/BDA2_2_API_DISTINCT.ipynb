{
 "cells": [
  {
   "cell_type": "code",
   "execution_count": 2,
   "metadata": {},
   "outputs": [],
   "source": [
    "from pyspark import SparkContext\n",
    "from pyspark.sql.session import SparkSession\n",
    "from pyspark.sql import SQLContext, Row  \n",
    "from pyspark.sql import functions as F\n",
    "sc =SparkContext()\n",
    "spark = SparkSession(sc)\n",
    "sqlContext=SQLContext(sc)\n"
   ]
  },
  {
   "cell_type": "code",
   "execution_count": 4,
   "metadata": {},
   "outputs": [
    {
     "name": "stdout",
     "output_type": "stream",
     "text": [
      "+----+-----+-----+\n",
      "|year|month|count|\n",
      "+----+-----+-----+\n",
      "|1955|   09|   35|\n",
      "|1955|   10|   20|\n",
      "|1956|   03|    4|\n",
      "|1956|   04|    5|\n",
      "|1956|   05|   44|\n",
      "|1956|   06|   58|\n",
      "|1956|   07|   76|\n",
      "|1956|   08|   49|\n",
      "|1956|   09|   30|\n",
      "|1956|   10|   13|\n",
      "|1957|   03|    1|\n",
      "|1957|   04|   13|\n",
      "|1957|   05|   33|\n",
      "|1957|   06|   51|\n",
      "|1957|   07|   69|\n",
      "|1957|   08|   58|\n",
      "|1957|   09|   27|\n",
      "|1957|   10|    8|\n",
      "|1958|   04|    3|\n",
      "|1958|   05|   31|\n",
      "+----+-----+-----+\n",
      "only showing top 20 rows\n",
      "\n"
     ]
    }
   ],
   "source": [
    "temps= sc.textFile(\"C:/Users/quartermaine/Documents/Big Data Analytics Labs/temperature-readings-tiny.csv\")\n",
    "parts = temps.map(lambda l:l.split(\";\"))\n",
    "tempReadings = parts.map(lambda p: Row(station=p[0],  date=p[1], year=p[1].split(\"-\")[0],month=p[1].split(\"-\")[1], time=p[2],  Temp=float(p[3]), quality=p[4]))\n",
    "#Inferring the schema and registering the DataFrame as atable\n",
    "schemaTempReadings =  sqlContext.createDataFrame(tempReadings)\n",
    "schemaTempReadings.registerTempTable(\"tempReadings\")\n",
    "\n",
    "\n",
    "\n",
    "tempsDist=schemaTempReadings.select([\"year\",\"month\",\"Temp\"]).distinct().filter(schemaTempReadings.Temp>=10).\\\n",
    "groupby(\"year\", \"month\").agg(F.count('Temp').alias(\"count\"))\\\n",
    ".orderBy('year','month')\n",
    "\n",
    "tempsDist.show()\n"
   ]
  }
 ],
 "metadata": {
  "kernelspec": {
   "display_name": "Python 3",
   "language": "python",
   "name": "python3"
  },
  "language_info": {
   "codemirror_mode": {
    "name": "ipython",
    "version": 3
   },
   "file_extension": ".py",
   "mimetype": "text/x-python",
   "name": "python",
   "nbconvert_exporter": "python",
   "pygments_lexer": "ipython3",
   "version": "3.6.8"
  }
 },
 "nbformat": 4,
 "nbformat_minor": 2
}
