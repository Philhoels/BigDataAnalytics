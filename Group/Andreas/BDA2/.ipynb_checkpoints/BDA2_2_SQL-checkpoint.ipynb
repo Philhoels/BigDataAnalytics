{
 "cells": [
  {
   "cell_type": "code",
   "execution_count": 1,
   "metadata": {},
   "outputs": [],
   "source": [
    "from pyspark import SparkContext\n",
    "from pyspark.sql.session import SparkSession\n",
    "from pyspark.sql import SQLContext, Row  \n",
    "from pyspark.sql import functions as F\n",
    "sc =SparkContext()\n",
    "spark = SparkSession(sc)\n",
    "sqlContext=SQLContext(sc)"
   ]
  },
  {
   "cell_type": "code",
   "execution_count": 2,
   "metadata": {},
   "outputs": [
    {
     "name": "stdout",
     "output_type": "stream",
     "text": [
      "+----+-----+-----+\n",
      "|year|month|count|\n",
      "+----+-----+-----+\n",
      "|1955|    9|   55|\n",
      "|1955|   10|   23|\n",
      "|1956|    3|    4|\n",
      "|1956|    4|    7|\n",
      "|1956|    5|   60|\n",
      "|1956|    6|   92|\n",
      "|1956|    7|  108|\n",
      "|1956|    8|   84|\n",
      "|1956|    9|   54|\n",
      "|1956|   10|   17|\n",
      "|1957|    3|    1|\n",
      "|1957|    4|   13|\n",
      "|1957|    5|   46|\n",
      "|1957|    6|   72|\n",
      "|1957|    7|  109|\n",
      "|1957|    8|   96|\n",
      "|1957|    9|   43|\n",
      "|1957|   10|    9|\n",
      "|1958|    4|    4|\n",
      "|1958|    5|   40|\n",
      "+----+-----+-----+\n",
      "only showing top 20 rows\n",
      "\n"
     ]
    }
   ],
   "source": [
    "temp_csv = spark.read.csv(\"temperature-readings-tiny.csv\", header=False,sep=\";\")\n",
    "df=temp_csv.selectExpr(\"_c0 as Station_number\", \"_c1 as Date\", \"_c2 as Time\", \"_c3 as Temperature\",\"_c4 as Quality\")\n",
    "df=df.withColumn('Date',F.to_date(\"Date\", \"yyyy-MM-dd\"))\n",
    "df.createOrReplaceTempView(\"temps_table\")\n",
    "query_over10=\" SELECT YEAR(Date) AS year , MONTH(Date) AS month ,COUNT(Temperature) AS count \\\n",
    "FROM temps_table WHERE FLOAT(Temperature) >=10 AND YEAR(Date) >=1950 AND YEAR(Date) <= 2014  GROUP BY year,month ORDER BY year,month ASC\"\n",
    "\n",
    "spark.sql(query_over10).show()"
   ]
  }
 ],
 "metadata": {
  "kernelspec": {
   "display_name": "Python 3",
   "language": "python",
   "name": "python3"
  },
  "language_info": {
   "codemirror_mode": {
    "name": "ipython",
    "version": 3
   },
   "file_extension": ".py",
   "mimetype": "text/x-python",
   "name": "python",
   "nbconvert_exporter": "python",
   "pygments_lexer": "ipython3",
   "version": "3.6.4"
  }
 },
 "nbformat": 4,
 "nbformat_minor": 2
}
