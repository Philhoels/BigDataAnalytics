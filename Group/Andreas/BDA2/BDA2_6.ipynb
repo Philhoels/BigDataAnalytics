{
 "cells": [
  {
   "cell_type": "code",
   "execution_count": 1,
   "metadata": {},
   "outputs": [
    {
     "name": "stdout",
     "output_type": "stream",
     "text": [
      "+----+-----+----------+\n",
      "|year|month|difference|\n",
      "+----+-----+----------+\n",
      "+----+-----+----------+\n",
      "\n"
     ]
    }
   ],
   "source": [
    "from pyspark import SparkContext\n",
    "from pyspark.sql.session import SparkSession\n",
    "from pyspark.sql import SQLContext, Row  \n",
    "from pyspark.sql import functions as F\n",
    "sc =SparkContext()\n",
    "spark = SparkSession(sc)\n",
    "sqlContext=SQLContext(sc)\n",
    "\n",
    "temp = sc.textFile(\"C:/Users/quartermaine/Documents/Big Data Analytics Labs/temperature-readings-tiny.csv\")\n",
    "\n",
    "parts_temp = temp.map(lambda a: a.split(';'))\n",
    "tempReadingsRow = parts_temp.map(lambda x: Row(station=x[0], date=x[1], year=int(x[1].split(\"-\")[0]),month= int(x[1].split(\"-\")[1]),time= x[2],Temp= float(x[3]),quality= x[4]))\n",
    "schemaTempReadings = sqlContext.createDataFrame(tempReadingsRow)\n",
    "\n",
    "\n",
    "precip = sc.textFile(\"C:/Users/quartermaine/Documents/Big Data Analytics Labs/stations-Ostergotland.csv\")\n",
    "\n",
    "parts_precip = precip.map(lambda a: a.split(';'))\n",
    "statOstRow = parts_precip.map(lambda x: Row(station=x[0], name=x[1]))\n",
    "schemaStatOst = sqlContext.createDataFrame(statOstRow)\n",
    "\n",
    "###\n",
    "schemaTempReadings = schemaTempReadings.join(schemaStatOst, 'station', 'inner')\n",
    "\n",
    "schemaTempReadings = schemaTempReadings.filter( (schemaTempReadings['year'] >= 1950) & (schemaTempReadings['year'] <= 2014) )\n",
    "\n",
    "minMaxTemps = schemaTempReadings.groupby(['station', 'date', 'year', 'month']).agg(F.min('Temp'), F.max('Temp'))\n",
    "\n",
    "avgMonthlyTemps = minMaxTemps.withColumn( 'dailyAvg', (minMaxTemps['min(Temp)']+minMaxTemps['max(Temp)'])/2.0 ).groupBy('year', 'month', 'station').agg(F.avg('dailyAvg').alias('avgMonthlyTempPerStat')).groupBy('year', 'month').agg(F.avg('avgMonthlyTempPerStat').alias('avgMonthlyTemperature'))\n",
    "\n",
    "longTermAvgTemp = avgMonthlyTemps.filter(avgMonthlyTemps['year'] <= 1980).groupBy('month').agg(F.avg('avgMonthlyTemperature').alias('longTermAvgTemp'))\n",
    "\n",
    "diff = avgMonthlyTemps.join(longTermAvgTemp, 'month', 'inner')\n",
    "diff = diff.withColumn('difference', diff['avgMonthlyTemperature']-diff['longTermAvgTemp']).select('year', 'month', 'difference').orderBy(['year', 'month'], ascending=[0, 0]).show()"
   ]
  }
 ],
 "metadata": {
  "kernelspec": {
   "display_name": "Python 3",
   "language": "python",
   "name": "python3"
  },
  "language_info": {
   "codemirror_mode": {
    "name": "ipython",
    "version": 3
   },
   "file_extension": ".py",
   "mimetype": "text/x-python",
   "name": "python",
   "nbconvert_exporter": "python",
   "pygments_lexer": "ipython3",
   "version": "3.6.8"
  }
 },
 "nbformat": 4,
 "nbformat_minor": 2
}
