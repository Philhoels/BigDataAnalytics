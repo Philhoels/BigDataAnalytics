{
 "cells": [
  {
   "cell_type": "code",
   "execution_count": 2,
   "metadata": {},
   "outputs": [],
   "source": [
    "from pyspark import SparkContext\n",
    "from pyspark.sql.session import SparkSession\n",
    "from pyspark.sql import SQLContext, Row  \n",
    "from pyspark.sql import functions as F\n",
    "sc =SparkContext()\n",
    "spark = SparkSession(sc)\n",
    "sqlContext=SQLContext(sc)"
   ]
  },
  {
   "cell_type": "code",
   "execution_count": 3,
   "metadata": {},
   "outputs": [
    {
     "name": "stdout",
     "output_type": "stream",
     "text": [
      "+----+-----+-------+--------------------+\n",
      "|year|month|station|     avg_temperature|\n",
      "+----+-----+-------+--------------------+\n",
      "|2014|   12| 102170|  -5.801612903225807|\n",
      "|2014|   11| 102170|               2.525|\n",
      "|2014|   10| 102170|   7.106451612903227|\n",
      "|2014|   09| 102170|   8.584999999999999|\n",
      "|2014|   08| 102170|  13.869354838709677|\n",
      "|2014|   07| 102170|  19.659677419354836|\n",
      "|2014|   06| 102170|  14.443333333333332|\n",
      "|2014|   05| 102170|  10.756451612903223|\n",
      "|2014|   04| 102170|   4.776666666666666|\n",
      "|2014|   03| 102170|   1.896774193548387|\n",
      "|2014|   02| 102170|  0.6749999999999999|\n",
      "|2014|   01| 102170|  -4.106451612903227|\n",
      "|2013|   12| 102170|  0.7096774193548387|\n",
      "|2013|   11| 102170|-0.05166666666666...|\n",
      "|1961|   05| 102190|   10.61533333333333|\n",
      "|1961|   04| 102190|   4.507777777777779|\n",
      "|1961|   03| 102190|   2.708602150537634|\n",
      "|1961|   02| 102190| -2.1333333333333337|\n",
      "|1961|   01| 102190|  -7.215053763440859|\n",
      "|1960|   12| 102190| -2.4274193548387086|\n",
      "+----+-----+-------+--------------------+\n",
      "only showing top 20 rows\n",
      "\n"
     ]
    }
   ],
   "source": [
    "temps= sc.textFile(\"C:/Users/quartermaine/Documents/Big Data Analytics Labs/temperature-readings-tiny.csv\")\n",
    "parts = temps.map(lambda l:l.split(\";\"))\n",
    "tempReadings = parts.map(lambda p: Row(station=p[0],  date=p[1], year=p[1].split(\"-\")[0],month=p[1].split(\"-\")[1],day=p[1].split(\"-\")[2], time=p[2],  Temp=float(p[3]), quality=p[4]))\n",
    "#Inferring the schema and registering the DataFrame as atable\n",
    "schemaTempReadings =  sqlContext.createDataFrame(tempReadings)\n",
    "schemaTempReadings.registerTempTable(\"tempReadings\")\n",
    "\n",
    "\n",
    "schemaAvg=schemaTempReadings.select('year','month','day','station','Temp')\\\n",
    ".filter((schemaTempReadings['year'] <=2014) & (schemaTempReadings[\"year\"]>=1960 )).groupby( \"year\",\"month\",'day','station')\\\n",
    ".agg( (F.avg('Temp') ).alias(\"daily_avg_temp\"))\\\n",
    ".select('year','month','station','daily_avg_temp').groupBy('year','month','station')\\\n",
    ".agg( (F.avg('daily_avg_temp') ).alias(\"avg_temperature\"))\\\n",
    ".orderBy('year','month','station',ascending=False)\n",
    "\n",
    "schemaAvg.show()\n"
   ]
  }
 ],
 "metadata": {
  "kernelspec": {
   "display_name": "Python 3",
   "language": "python",
   "name": "python3"
  },
  "language_info": {
   "codemirror_mode": {
    "name": "ipython",
    "version": 3
   },
   "file_extension": ".py",
   "mimetype": "text/x-python",
   "name": "python",
   "nbconvert_exporter": "python",
   "pygments_lexer": "ipython3",
   "version": "3.6.8"
  }
 },
 "nbformat": 4,
 "nbformat_minor": 2
}
