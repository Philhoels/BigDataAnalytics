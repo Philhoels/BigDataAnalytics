{
 "cells": [
  {
   "cell_type": "code",
   "execution_count": 1,
   "metadata": {},
   "outputs": [],
   "source": [
    "# import libraries\n",
    "from pyspark.context import SparkContext,SparkConf\n",
    "from pyspark.sql.session import SparkSession\n",
    "import pyspark.sql.functions as F\n",
    "sc = SparkContext.getOrCreate()\n",
    "spark = SparkSession(sc)"
   ]
  },
  {
   "cell_type": "markdown",
   "metadata": {},
   "source": [
    "## Assignments"
   ]
  },
  {
   "cell_type": "markdown",
   "metadata": {},
   "source": [
    "#### 1)What are the lowest and highest temperatures measured each year for the period 1950-2014. Provide the lists sorted in the descending order with respect to the maximum temperature. In this exercise you will use the temperature-readings.csv file.¶"
   ]
  },
  {
   "cell_type": "code",
   "execution_count": 2,
   "metadata": {},
   "outputs": [
    {
     "name": "stdout",
     "output_type": "stream",
     "text": [
      "+--------------+-------------------+--------+-----------+-------+\n",
      "|Station_number|               Date|    Time|Temperature|Quality|\n",
      "+--------------+-------------------+--------+-----------+-------+\n",
      "|        102170|2016-06-11 00:00:00|06:00:00|        9.9|      G|\n",
      "|        102190|1955-09-15 00:00:00|12:00:00|        9.9|      Y|\n",
      "|        102190|1957-05-02 00:00:00|12:00:00|        9.9|      Y|\n",
      "|        102190|1956-09-12 00:00:00|00:00:00|        9.9|      Y|\n",
      "|        102190|1957-06-23 00:00:00|12:00:00|        9.9|      Y|\n",
      "|        102190|1960-06-17 00:00:00|06:00:00|        9.9|      Y|\n",
      "|        102170|2014-09-21 00:00:00|18:00:00|        9.9|      G|\n",
      "|        102170|2015-05-26 00:00:00|18:00:00|        9.9|      G|\n",
      "|        102170|2014-10-08 00:00:00|06:00:00|        9.9|      G|\n",
      "|        102170|2015-06-17 00:00:00|06:00:00|        9.9|      G|\n",
      "|        102190|1956-08-25 00:00:00|00:00:00|        9.9|      Y|\n",
      "|        102190|1956-09-05 00:00:00|00:00:00|        9.9|      Y|\n",
      "|        102170|2015-06-18 00:00:00|06:00:00|        9.9|      G|\n",
      "|        102190|1956-06-16 00:00:00|12:00:00|        9.8|      Y|\n",
      "|        102190|1955-09-16 00:00:00|06:00:00|        9.8|      Y|\n",
      "|        102190|1956-06-28 00:00:00|18:00:00|        9.8|      Y|\n",
      "|        102190|1956-08-13 00:00:00|06:00:00|        9.8|      Y|\n",
      "|        102190|1956-04-19 00:00:00|12:00:00|        9.8|      Y|\n",
      "|        102170|2014-10-02 00:00:00|06:00:00|        9.8|      G|\n",
      "|        102190|1956-08-27 00:00:00|06:00:00|        9.8|      Y|\n",
      "+--------------+-------------------+--------+-----------+-------+\n",
      "only showing top 20 rows\n",
      "\n",
      "root\n",
      " |-- Station_number: string (nullable = true)\n",
      " |-- Date: timestamp (nullable = true)\n",
      " |-- Time: string (nullable = true)\n",
      " |-- Temperature: string (nullable = true)\n",
      " |-- Quality: string (nullable = true)\n",
      "\n"
     ]
    }
   ],
   "source": [
    "temp_csv = spark.read.csv(\"temperature-readings-tiny.csv\", header=False,sep=\";\")\n",
    "df=temp_csv.selectExpr(\"_c0 as Station_number\", \"_c1 as Date\", \"_c2 as Time\", \"_c3 as Temperature\",\"_c4 as Quality\")\n",
    "df=df.withColumn('Date',F.to_timestamp(\"Date\", \"yyyy-MM-dd\"))\n",
    "df=df.orderBy(df.Temperature,ascending=False)\n",
    "df.show()\n",
    "df.printSchema()"
   ]
  },
  {
   "cell_type": "code",
   "execution_count": 8,
   "metadata": {},
   "outputs": [
    {
     "name": "stdout",
     "output_type": "stream",
     "text": [
      "+----+---------------+\n",
      "|year|max_Temperature|\n",
      "+----+---------------+\n",
      "|2014|           29.1|\n",
      "|1960|           29.0|\n",
      "|1959|           28.2|\n",
      "|1958|           28.1|\n",
      "|1956|           26.0|\n",
      "|1957|           25.2|\n",
      "|1955|           20.4|\n",
      "|1961|           19.0|\n",
      "|2013|           10.2|\n",
      "+----+---------------+\n",
      "\n",
      "root\n",
      " |-- year: integer (nullable = true)\n",
      " |-- max_Temperature: float (nullable = true)\n",
      "\n"
     ]
    }
   ],
   "source": [
    "# maximun temperature per year\n",
    "df.createOrReplaceTempView(\"temps_table\")\n",
    "query_max_temps=\"SELECT YEAR(Date) as year, MAX(FLOAT(Temperature)) AS max_Temperature \\\n",
    "FROM temps_table WHERE YEAR(Date) >=1950 AND YEAR(Date) <= 2014 GROUP BY year ORDER BY max_Temperature DESC\"\n",
    "\n",
    "max_temps=spark.sql(query_max_temps)\n",
    "max_temps.show()\n",
    "max_temps.printSchema()"
   ]
  },
  {
   "cell_type": "code",
   "execution_count": 9,
   "metadata": {},
   "outputs": [
    {
     "name": "stdout",
     "output_type": "stream",
     "text": [
      "+----+---------------+\n",
      "|year|min_Temperature|\n",
      "+----+---------------+\n",
      "|1956|          -30.0|\n",
      "|1960|          -28.3|\n",
      "|1958|          -27.9|\n",
      "|1955|          -26.2|\n",
      "|2014|          -24.3|\n",
      "|1961|          -23.5|\n",
      "|1959|          -23.2|\n",
      "|1957|          -19.9|\n",
      "|2013|          -13.3|\n",
      "+----+---------------+\n",
      "\n",
      "root\n",
      " |-- year: integer (nullable = true)\n",
      " |-- min_Temperature: float (nullable = true)\n",
      "\n"
     ]
    }
   ],
   "source": [
    "# min temperatures per year\n",
    "query_min_temps=\"SELECT YEAR(Date) as year, MIN(FLOAT(Temperature)) AS min_Temperature \\\n",
    "FROM temps_table WHERE YEAR(Date) >=1950 AND YEAR(Date) <= 2014 GROUP BY year ORDER BY min_Temperature ASC\"\n",
    "\n",
    "min_temps=spark.sql(query_min_temps)\n",
    "min_temps.show()\n",
    "min_temps.printSchema()"
   ]
  },
  {
   "cell_type": "markdown",
   "metadata": {},
   "source": [
    "### Question 1.a"
   ]
  },
  {
   "cell_type": "code",
   "execution_count": 10,
   "metadata": {},
   "outputs": [
    {
     "name": "stdout",
     "output_type": "stream",
     "text": [
      "+----+--------------+---------------+\n",
      "|year|Station_number|max_Temperature|\n",
      "+----+--------------+---------------+\n",
      "|2014|        102170|           29.1|\n",
      "|1960|        102190|           29.0|\n",
      "|1959|        102190|           28.2|\n",
      "|1958|        102190|           28.1|\n",
      "|1956|        102190|           26.0|\n",
      "|1957|        102190|           25.2|\n",
      "|1955|        102190|           20.4|\n",
      "|1961|        102190|           19.0|\n",
      "|2013|        102170|           10.2|\n",
      "+----+--------------+---------------+\n",
      "\n"
     ]
    }
   ],
   "source": [
    "# max temperature for every station per year\n",
    "query_max_temps_station=\"SELECT YEAR(Date) as year, Station_number,MAX(FLOAT(Temperature)) AS max_Temperature \\\n",
    "FROM temps_table WHERE YEAR(Date) >=1950 AND YEAR(Date) <= 2014 GROUP BY year ,Station_number ORDER BY max_Temperature DESC\"\n",
    "\n",
    "max_temps_station=spark.sql(query_max_temps_station)\n",
    "max_temps_station.show()"
   ]
  },
  {
   "cell_type": "code",
   "execution_count": 11,
   "metadata": {},
   "outputs": [
    {
     "name": "stdout",
     "output_type": "stream",
     "text": [
      "+----+--------------+---------------+\n",
      "|year|Station_number|min_Temperature|\n",
      "+----+--------------+---------------+\n",
      "|1956|        102190|          -30.0|\n",
      "|1960|        102190|          -28.3|\n",
      "|1958|        102190|          -27.9|\n",
      "|1955|        102190|          -26.2|\n",
      "|2014|        102170|          -24.3|\n",
      "|1961|        102190|          -23.5|\n",
      "|1959|        102190|          -23.2|\n",
      "|1957|        102190|          -19.9|\n",
      "|2013|        102170|          -13.3|\n",
      "+----+--------------+---------------+\n",
      "\n"
     ]
    }
   ],
   "source": [
    "# min temperature for every station per year\n",
    "query_min_temps_station=\"SELECT YEAR(Date) as year, Station_number,MIN(FLOAT(Temperature)) AS min_Temperature \\\n",
    "FROM temps_table WHERE YEAR(Date) >=1950 AND YEAR(Date) <= 2014 GROUP BY year ,Station_number ORDER BY min_Temperature ASC\"\n",
    "\n",
    "min_temps_station=spark.sql(query_min_temps_station)\n",
    "min_temps_station.show()"
   ]
  },
  {
   "cell_type": "markdown",
   "metadata": {},
   "source": [
    "### Question 1.b"
   ]
  },
  {
   "cell_type": "code",
   "execution_count": 58,
   "metadata": {},
   "outputs": [],
   "source": [
    "# see Lab 2 ===> solution with pandas"
   ]
  },
  {
   "cell_type": "code",
   "execution_count": null,
   "metadata": {},
   "outputs": [],
   "source": []
  },
  {
   "cell_type": "markdown",
   "metadata": {},
   "source": [
    "### Question 2"
   ]
  },
  {
   "cell_type": "markdown",
   "metadata": {},
   "source": [
    "#### 2)Count the number of readings for each month in the period of 1950-2014 which are higher than 10 degrees.Repeat the exercise,this time taking only distinct readings from each station. That is, if a station reported are a ding above 10 degrees in some month,then it appears only once in the count for that month.In this exercise you will use the temperature-readings.csvfile.¶\n",
    "#### The out put should contain the following information:Year, month, count"
   ]
  },
  {
   "cell_type": "code",
   "execution_count": 12,
   "metadata": {},
   "outputs": [
    {
     "name": "stdout",
     "output_type": "stream",
     "text": [
      "+----+-----+-----+\n",
      "|year|month|count|\n",
      "+----+-----+-----+\n",
      "|1955|    9|   55|\n",
      "|1955|   10|   23|\n",
      "|1956|    3|    4|\n",
      "|1956|    4|    7|\n",
      "|1956|    5|   60|\n",
      "|1956|    6|   92|\n",
      "|1956|    7|  108|\n",
      "|1956|    8|   84|\n",
      "|1956|    9|   54|\n",
      "|1956|   10|   17|\n",
      "|1957|    3|    1|\n",
      "|1957|    4|   13|\n",
      "|1957|    5|   46|\n",
      "|1957|    6|   72|\n",
      "|1957|    7|  109|\n",
      "|1957|    8|   96|\n",
      "|1957|    9|   43|\n",
      "|1957|   10|    9|\n",
      "|1958|    4|    4|\n",
      "|1958|    5|   40|\n",
      "+----+-----+-----+\n",
      "only showing top 20 rows\n",
      "\n"
     ]
    }
   ],
   "source": [
    "# using the temps_table from before\n",
    "\n",
    "query_over10=\" SELECT YEAR(Date) AS year , MONTH(Date) AS month ,COUNT(Temperature) AS count \\\n",
    "FROM temps_table WHERE FLOAT(Temperature) >=10 AND YEAR(Date) >=1950 AND YEAR(Date) <= 2014  GROUP BY year,month ORDER BY year,month ASC\"\n",
    "\n",
    "spark.sql(query_over10).show()"
   ]
  },
  {
   "cell_type": "code",
   "execution_count": 14,
   "metadata": {},
   "outputs": [
    {
     "name": "stdout",
     "output_type": "stream",
     "text": [
      "+----+-----+-----+\n",
      "|year|month|count|\n",
      "+----+-----+-----+\n",
      "|1955|    9|   35|\n",
      "|1955|   10|   20|\n",
      "|1956|    3|    4|\n",
      "|1956|    4|    5|\n",
      "|1956|    5|   44|\n",
      "|1956|    6|   58|\n",
      "|1956|    7|   76|\n",
      "|1956|    8|   49|\n",
      "|1956|    9|   30|\n",
      "|1956|   10|   13|\n",
      "|1957|    3|    1|\n",
      "|1957|    4|   13|\n",
      "|1957|    5|   33|\n",
      "|1957|    6|   51|\n",
      "|1957|    7|   69|\n",
      "|1957|    8|   58|\n",
      "|1957|    9|   27|\n",
      "|1957|   10|    8|\n",
      "|1958|    4|    3|\n",
      "|1958|    5|   31|\n",
      "+----+-----+-----+\n",
      "only showing top 20 rows\n",
      "\n"
     ]
    }
   ],
   "source": [
    "# now using distinct temperatures\n",
    "\n",
    "query_over10_distinct=\" SELECT YEAR(Date) AS year , MONTH(Date) AS month ,AVG(DISTINCT(Temperature)) AS count \\\n",
    "FROM temps_table WHERE FLOAT(Temperature) >=10 AND YEAR(Date) >=1950 AND YEAR(Date) <= 2014 GROUP BY year,month ORDER BY year,month ASC\"\n",
    "\n",
    "spark.sql(query_over10_distinct).show()"
   ]
  },
  {
   "cell_type": "markdown",
   "metadata": {},
   "source": [
    "### Question 3"
   ]
  },
  {
   "cell_type": "markdown",
   "metadata": {},
   "source": [
    "#### 3)Find the average monthly temperature for each available station in Sweden. Your result should include average temperature for each station for each month in the period of 1960-2014. Bear in mind that not every station has the readings for each month in this timeframe.In this exercise you will use the temperature-readings.csvfile.¶\n",
    "#### The output should contain the following information: Year, month, station number, average monthly temperature\n"
   ]
  },
  {
   "cell_type": "markdown",
   "metadata": {},
   "source": [
    "### The monthly average is calculated by averaging the daily maximums and minimums for that month.For example, to get the monthly average for October, take maximums and minimums for each day, sum them up and divide by 62 (which is the same as taking the daily averages, summing them up and divide by the number of days)."
   ]
  },
  {
   "cell_type": "code",
   "execution_count": 39,
   "metadata": {},
   "outputs": [
    {
     "name": "stdout",
     "output_type": "stream",
     "text": [
      "+----+-----+-------+--------------------+\n",
      "|year|month|station|         avg_monthly|\n",
      "+----+-----+-------+--------------------+\n",
      "|2014|   12| 102170|  -5.801612894020734|\n",
      "|2014|   11| 102170|  2.5249999977648256|\n",
      "|2014|   10| 102170|   7.106451625304837|\n",
      "|2014|    9| 102170|   8.584999987483025|\n",
      "|2014|    8| 102170|   13.86935483255694|\n",
      "|2014|    7| 102170|    19.6596774132021|\n",
      "|2014|    6| 102170|  14.443333387374878|\n",
      "|2014|    5| 102170|  10.756451619728919|\n",
      "|2014|    4| 102170|   4.776666717727979|\n",
      "|2014|    3| 102170|  1.8967741969371996|\n",
      "|2014|    2| 102170|  0.6749999944918922|\n",
      "|2014|    1| 102170|  -4.106451601751389|\n",
      "|2013|   12| 102170|  0.7096774189943268|\n",
      "|2013|   11| 102170|-0.05166668320695559|\n",
      "|1961|    5| 102190|  10.615333366394044|\n",
      "|1961|    4| 102190|   4.507777822679944|\n",
      "|1961|    3| 102190|  2.7086021617375398|\n",
      "|1961|    2| 102190|  -2.133333349955224|\n",
      "|1961|    1| 102190|  -7.215053754468119|\n",
      "|1960|   12| 102190| -2.4274193498115704|\n",
      "+----+-----+-------+--------------------+\n",
      "only showing top 20 rows\n",
      "\n"
     ]
    }
   ],
   "source": [
    "query=\" WITH sub AS (SELECT YEAR(Date) AS year , MONTH(Date) AS month , DAY(Date) AS day,Station_number AS station,AVG(FLOAT(Temperature)) AS avg_daily \\\n",
    "FROM temps_table WHERE YEAR(Date) >=1950 AND YEAR(Date) <= 2014 GROUP BY year,month,day,station ORDER BY (year,month,day) DESC) \\\n",
    "SELECT year,month,station,AVG(avg_daily) AS avg_monthly FROM sub GROUP BY year,month,station \\\n",
    "ORDER BY (year,month,station) DESC\"\n",
    "\n",
    "spark.sql(query).show()\n",
    "\n"
   ]
  },
  {
   "cell_type": "code",
   "execution_count": null,
   "metadata": {},
   "outputs": [],
   "source": []
  },
  {
   "cell_type": "code",
   "execution_count": null,
   "metadata": {},
   "outputs": [],
   "source": []
  },
  {
   "cell_type": "code",
   "execution_count": null,
   "metadata": {},
   "outputs": [],
   "source": []
  }
 ],
 "metadata": {
  "kernelspec": {
   "display_name": "Python 3",
   "language": "python",
   "name": "python3"
  },
  "language_info": {
   "codemirror_mode": {
    "name": "ipython",
    "version": 3
   },
   "file_extension": ".py",
   "mimetype": "text/x-python",
   "name": "python",
   "nbconvert_exporter": "python",
   "pygments_lexer": "ipython3",
   "version": "3.6.8"
  }
 },
 "nbformat": 4,
 "nbformat_minor": 2
}
