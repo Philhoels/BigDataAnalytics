{
 "cells": [
  {
   "cell_type": "code",
   "execution_count": 1,
   "metadata": {},
   "outputs": [],
   "source": [
    "from pyspark import SparkContext\n",
    "from pyspark.sql import SQLContext, Row  \n",
    "from pyspark.sql import functions as F\n",
    "sc =SparkContext()\n",
    "sqlContext=SQLContext(sc)"
   ]
  },
  {
   "cell_type": "code",
   "execution_count": 2,
   "metadata": {},
   "outputs": [],
   "source": [
    "T= sc.textFile(\"C:/Users/quartermaine/Documents/Big Data Analytics Labs/temperature-readings-tiny.csv\")"
   ]
  },
  {
   "cell_type": "markdown",
   "metadata": {},
   "source": [
    "### Assignments"
   ]
  },
  {
   "cell_type": "markdown",
   "metadata": {},
   "source": [
    "#### 1)What are the lowest and highest temperatures measured each year for the period 1950-2014. Provide the lists sorted in the descending order with respect to the maximum temperature. In this exercise you will use the temperature-readings.csv file.¶"
   ]
  },
  {
   "cell_type": "code",
   "execution_count": 3,
   "metadata": {},
   "outputs": [],
   "source": [
    "lines = T.map(lambda line: line.split(\";\"))\n",
    "\n",
    "year_temperature = lines.map(lambda x: (x[1][0:4], float(x[3])))\n",
    "\n",
    "year_temperature = year_temperature.filter(lambda x: int(x[0]) >= 1950 and int(x[0]) <= 2014)\n",
    "\n",
    "max_temperatures= year_temperature.reduceByKey(lambda x,y :x if x>=y else y)\n",
    "\n",
    "max_temperaturesSorted=max_temperatures.sortBy(ascending=False,keyfunc=lambda k:k[1])\n",
    "\n",
    "max_temps=sqlContext.createDataFrame(max_temperaturesSorted, schema=['Year', 'Temp'])\n",
    "\n",
    "min_temperatures= year_temperature.reduceByKey(lambda x,y :x if x<=y else y)\n",
    "\n",
    "min_temperaturesSorted=min_temperatures.sortBy(ascending=False,keyfunc=lambda k:k[1])\n",
    "\n",
    "min_temps=sqlContext.createDataFrame(min_temperaturesSorted, schema=['Year', 'Temp'])\n",
    "\n",
    "max_temps.registerTempTable(\"maxReadingsTable\")\n",
    "min_temps.registerTempTable(\"minReadingsTable\")"
   ]
  },
  {
   "cell_type": "code",
   "execution_count": 4,
   "metadata": {},
   "outputs": [
    {
     "name": "stdout",
     "output_type": "stream",
     "text": [
      "----Table with max temperatures per year---\n",
      "+----+----+\n",
      "|Year|Temp|\n",
      "+----+----+\n",
      "|2014|29.1|\n",
      "|1960|29.0|\n",
      "|1959|28.2|\n",
      "|1958|28.1|\n",
      "|1956|26.0|\n",
      "|1957|25.2|\n",
      "|1955|20.4|\n",
      "|1961|19.0|\n",
      "|2013|10.2|\n",
      "+----+----+\n",
      "\n",
      "----Table with min temperatures per year---\n",
      "+----+-----+\n",
      "|Year| Temp|\n",
      "+----+-----+\n",
      "|2013|-13.3|\n",
      "|1957|-19.9|\n",
      "|1959|-23.2|\n",
      "|1961|-23.5|\n",
      "|2014|-24.3|\n",
      "|1955|-26.2|\n",
      "|1958|-27.9|\n",
      "|1960|-28.3|\n",
      "|1956|-30.0|\n",
      "+----+-----+\n",
      "\n"
     ]
    }
   ],
   "source": [
    "print(\"----Table with max temperatures per year---\")\n",
    "max_temps.show()\n",
    "print(\"----Table with min temperatures per year---\")\n",
    "min_temps.show()\n"
   ]
  },
  {
   "cell_type": "markdown",
   "metadata": {},
   "source": [
    "### Question 1"
   ]
  },
  {
   "cell_type": "markdown",
   "metadata": {},
   "source": [
    "###  a)"
   ]
  },
  {
   "cell_type": "code",
   "execution_count": 5,
   "metadata": {},
   "outputs": [],
   "source": [
    "year_temp = lines.map(lambda x: (x[1][0:4],( float(x[3]),x[0])))\n",
    "\n",
    "year_temp = year_temp.filter(lambda x: int(x[0]) >= 1950 and int(x[0]) <= 2014)\n",
    "\n",
    "#############################\n",
    "max_temperatures1= year_temp.reduceByKey(lambda x,y :x if x>=y else y)\n",
    "\n",
    "max_temperaturesSorted1=max_temperatures1.sortBy(ascending=False,keyfunc=lambda k:k[1][0])\n",
    "\n",
    "t=max_temperaturesSorted1.map(lambda x: (x[0], float(x[1][0]),x[1][1]))\n",
    "\n",
    "max_temps1=sqlContext.createDataFrame(t, schema=['Year', 'Temp','station_number'])\n",
    "\n",
    "#############################\n",
    "\n",
    "min_temperatures1= year_temp.reduceByKey(lambda x,y :x if x<=y else y)\n",
    "\n",
    "min_temperaturesSorted1=min_temperatures1.sortBy(ascending=False,keyfunc=lambda k:k[1][0])\n",
    "\n",
    "t1=min_temperaturesSorted1.map(lambda x: (x[0], float(x[1][0]),x[1][1]))\n",
    "\n",
    "min_temps1=sqlContext.createDataFrame(t1, schema=['Year', 'Temp','station_number'])\n"
   ]
  },
  {
   "cell_type": "code",
   "execution_count": 6,
   "metadata": {},
   "outputs": [
    {
     "name": "stdout",
     "output_type": "stream",
     "text": [
      "----Table with max temperatures per year---\n",
      "+----+----+--------------+\n",
      "|Year|Temp|station_number|\n",
      "+----+----+--------------+\n",
      "|2014|29.1|        102170|\n",
      "|1960|29.0|        102190|\n",
      "|1959|28.2|        102190|\n",
      "|1958|28.1|        102190|\n",
      "|1956|26.0|        102190|\n",
      "|1957|25.2|        102190|\n",
      "|1955|20.4|        102190|\n",
      "|1961|19.0|        102190|\n",
      "|2013|10.2|        102170|\n",
      "+----+----+--------------+\n",
      "\n",
      "----Table with min temperatures per year---\n",
      "+----+-----+--------------+\n",
      "|Year| Temp|station_number|\n",
      "+----+-----+--------------+\n",
      "|2013|-13.3|        102170|\n",
      "|1957|-19.9|        102190|\n",
      "|1959|-23.2|        102190|\n",
      "|1961|-23.5|        102190|\n",
      "|2014|-24.3|        102170|\n",
      "|1955|-26.2|        102190|\n",
      "|1958|-27.9|        102190|\n",
      "|1960|-28.3|        102190|\n",
      "|1956|-30.0|        102190|\n",
      "+----+-----+--------------+\n",
      "\n"
     ]
    }
   ],
   "source": [
    "print(\"----Table with max temperatures per year---\")\n",
    "max_temps1.show()\n",
    "print(\"----Table with min temperatures per year---\")\n",
    "min_temps1.show()"
   ]
  },
  {
   "cell_type": "markdown",
   "metadata": {},
   "source": [
    "###  b)"
   ]
  },
  {
   "cell_type": "code",
   "execution_count": 7,
   "metadata": {},
   "outputs": [
    {
     "name": "stdout",
     "output_type": "stream",
     "text": [
      "first 5 rows\n"
     ]
    },
    {
     "data": {
      "text/html": [
       "<div>\n",
       "<style scoped>\n",
       "    .dataframe tbody tr th:only-of-type {\n",
       "        vertical-align: middle;\n",
       "    }\n",
       "\n",
       "    .dataframe tbody tr th {\n",
       "        vertical-align: top;\n",
       "    }\n",
       "\n",
       "    .dataframe thead th {\n",
       "        text-align: right;\n",
       "    }\n",
       "</style>\n",
       "<table border=\"1\" class=\"dataframe\">\n",
       "  <thead>\n",
       "    <tr style=\"text-align: right;\">\n",
       "      <th></th>\n",
       "      <th>station_number</th>\n",
       "      <th>date</th>\n",
       "      <th>time</th>\n",
       "      <th>Temperature</th>\n",
       "      <th>quality</th>\n",
       "    </tr>\n",
       "  </thead>\n",
       "  <tbody>\n",
       "    <tr>\n",
       "      <th>0</th>\n",
       "      <td>102170</td>\n",
       "      <td>2013-11-01</td>\n",
       "      <td>06:00:00</td>\n",
       "      <td>6.8</td>\n",
       "      <td>G</td>\n",
       "    </tr>\n",
       "    <tr>\n",
       "      <th>1</th>\n",
       "      <td>102170</td>\n",
       "      <td>2013-11-01</td>\n",
       "      <td>18:00:00</td>\n",
       "      <td>3.8</td>\n",
       "      <td>G</td>\n",
       "    </tr>\n",
       "    <tr>\n",
       "      <th>2</th>\n",
       "      <td>102170</td>\n",
       "      <td>2013-11-02</td>\n",
       "      <td>06:00:00</td>\n",
       "      <td>5.8</td>\n",
       "      <td>G</td>\n",
       "    </tr>\n",
       "    <tr>\n",
       "      <th>3</th>\n",
       "      <td>102170</td>\n",
       "      <td>2013-11-02</td>\n",
       "      <td>18:00:00</td>\n",
       "      <td>-1.1</td>\n",
       "      <td>G</td>\n",
       "    </tr>\n",
       "    <tr>\n",
       "      <th>4</th>\n",
       "      <td>102170</td>\n",
       "      <td>2013-11-03</td>\n",
       "      <td>06:00:00</td>\n",
       "      <td>-0.2</td>\n",
       "      <td>G</td>\n",
       "    </tr>\n",
       "  </tbody>\n",
       "</table>\n",
       "</div>"
      ],
      "text/plain": [
       "   station_number        date      time  Temperature quality\n",
       "0          102170  2013-11-01  06:00:00          6.8       G\n",
       "1          102170  2013-11-01  18:00:00          3.8       G\n",
       "2          102170  2013-11-02  06:00:00          5.8       G\n",
       "3          102170  2013-11-02  18:00:00         -1.1       G\n",
       "4          102170  2013-11-03  06:00:00         -0.2       G"
      ]
     },
     "execution_count": 7,
     "metadata": {},
     "output_type": "execute_result"
    }
   ],
   "source": [
    "import pandas as pd\n",
    "dat=pd.read_csv(\"temperature-readings-tiny.csv\",sep=';',header=None)\n",
    "dat.columns = ['station_number', 'date','time','Temperature','quality']\n",
    "print(\"first 5 rows\")\n",
    "dat.head(5)\n",
    "# print(\"column names\")\n",
    "# dat.columns"
   ]
  },
  {
   "cell_type": "code",
   "execution_count": 8,
   "metadata": {},
   "outputs": [
    {
     "name": "stderr",
     "output_type": "stream",
     "text": [
      "C:\\Users\\quartermaine\\Anaconda2\\envs\\python3\\lib\\site-packages\\ipykernel_launcher.py:2: SettingWithCopyWarning: \n",
      "A value is trying to be set on a copy of a slice from a DataFrame.\n",
      "Try using .loc[row_indexer,col_indexer] = value instead\n",
      "\n",
      "See the caveats in the documentation: http://pandas.pydata.org/pandas-docs/stable/indexing.html#indexing-view-versus-copy\n",
      "  \n"
     ]
    },
    {
     "data": {
      "text/plain": [
       "Index(['station_number', 'date', 'Temperature', 'year'], dtype='object')"
      ]
     },
     "execution_count": 8,
     "metadata": {},
     "output_type": "execute_result"
    }
   ],
   "source": [
    "dt=dat[['station_number','date','Temperature']]\n",
    "dt['year'] = pd.DatetimeIndex(dt['date']).year\n",
    "dt.head()\n",
    "dt.columns"
   ]
  },
  {
   "cell_type": "code",
   "execution_count": 9,
   "metadata": {},
   "outputs": [
    {
     "data": {
      "text/html": [
       "<div>\n",
       "<style scoped>\n",
       "    .dataframe tbody tr th:only-of-type {\n",
       "        vertical-align: middle;\n",
       "    }\n",
       "\n",
       "    .dataframe tbody tr th {\n",
       "        vertical-align: top;\n",
       "    }\n",
       "\n",
       "    .dataframe thead th {\n",
       "        text-align: right;\n",
       "    }\n",
       "</style>\n",
       "<table border=\"1\" class=\"dataframe\">\n",
       "  <thead>\n",
       "    <tr style=\"text-align: right;\">\n",
       "      <th></th>\n",
       "      <th>station_number</th>\n",
       "      <th>year</th>\n",
       "      <th>Temperature</th>\n",
       "    </tr>\n",
       "  </thead>\n",
       "  <tbody>\n",
       "    <tr>\n",
       "      <th>0</th>\n",
       "      <td>102170</td>\n",
       "      <td>2013</td>\n",
       "      <td>6.8</td>\n",
       "    </tr>\n",
       "    <tr>\n",
       "      <th>1</th>\n",
       "      <td>102170</td>\n",
       "      <td>2013</td>\n",
       "      <td>3.8</td>\n",
       "    </tr>\n",
       "    <tr>\n",
       "      <th>2</th>\n",
       "      <td>102170</td>\n",
       "      <td>2013</td>\n",
       "      <td>5.8</td>\n",
       "    </tr>\n",
       "    <tr>\n",
       "      <th>3</th>\n",
       "      <td>102170</td>\n",
       "      <td>2013</td>\n",
       "      <td>-1.1</td>\n",
       "    </tr>\n",
       "    <tr>\n",
       "      <th>4</th>\n",
       "      <td>102170</td>\n",
       "      <td>2013</td>\n",
       "      <td>-0.2</td>\n",
       "    </tr>\n",
       "  </tbody>\n",
       "</table>\n",
       "</div>"
      ],
      "text/plain": [
       "   station_number  year  Temperature\n",
       "0          102170  2013          6.8\n",
       "1          102170  2013          3.8\n",
       "2          102170  2013          5.8\n",
       "3          102170  2013         -1.1\n",
       "4          102170  2013         -0.2"
      ]
     },
     "execution_count": 9,
     "metadata": {},
     "output_type": "execute_result"
    }
   ],
   "source": [
    "DT=dt[['station_number','year','Temperature']]\n",
    "DT.head()"
   ]
  },
  {
   "cell_type": "code",
   "execution_count": 10,
   "metadata": {},
   "outputs": [
    {
     "data": {
      "text/html": [
       "<div>\n",
       "<style scoped>\n",
       "    .dataframe tbody tr th:only-of-type {\n",
       "        vertical-align: middle;\n",
       "    }\n",
       "\n",
       "    .dataframe tbody tr th {\n",
       "        vertical-align: top;\n",
       "    }\n",
       "\n",
       "    .dataframe thead tr th {\n",
       "        text-align: left;\n",
       "    }\n",
       "\n",
       "    .dataframe thead tr:last-of-type th {\n",
       "        text-align: right;\n",
       "    }\n",
       "</style>\n",
       "<table border=\"1\" class=\"dataframe\">\n",
       "  <thead>\n",
       "    <tr>\n",
       "      <th></th>\n",
       "      <th colspan=\"2\" halign=\"left\">Temperature</th>\n",
       "    </tr>\n",
       "    <tr>\n",
       "      <th></th>\n",
       "      <th>min</th>\n",
       "      <th>max</th>\n",
       "    </tr>\n",
       "    <tr>\n",
       "      <th>year</th>\n",
       "      <th></th>\n",
       "      <th></th>\n",
       "    </tr>\n",
       "  </thead>\n",
       "  <tbody>\n",
       "    <tr>\n",
       "      <th>1955</th>\n",
       "      <td>-26.2</td>\n",
       "      <td>20.4</td>\n",
       "    </tr>\n",
       "    <tr>\n",
       "      <th>1956</th>\n",
       "      <td>-30.0</td>\n",
       "      <td>26.0</td>\n",
       "    </tr>\n",
       "    <tr>\n",
       "      <th>1957</th>\n",
       "      <td>-19.9</td>\n",
       "      <td>25.2</td>\n",
       "    </tr>\n",
       "    <tr>\n",
       "      <th>1958</th>\n",
       "      <td>-27.9</td>\n",
       "      <td>28.1</td>\n",
       "    </tr>\n",
       "    <tr>\n",
       "      <th>1959</th>\n",
       "      <td>-23.2</td>\n",
       "      <td>28.2</td>\n",
       "    </tr>\n",
       "    <tr>\n",
       "      <th>1960</th>\n",
       "      <td>-28.3</td>\n",
       "      <td>29.0</td>\n",
       "    </tr>\n",
       "    <tr>\n",
       "      <th>1961</th>\n",
       "      <td>-23.5</td>\n",
       "      <td>19.0</td>\n",
       "    </tr>\n",
       "    <tr>\n",
       "      <th>2013</th>\n",
       "      <td>-13.3</td>\n",
       "      <td>10.2</td>\n",
       "    </tr>\n",
       "    <tr>\n",
       "      <th>2014</th>\n",
       "      <td>-24.3</td>\n",
       "      <td>29.1</td>\n",
       "    </tr>\n",
       "    <tr>\n",
       "      <th>2015</th>\n",
       "      <td>-19.6</td>\n",
       "      <td>26.8</td>\n",
       "    </tr>\n",
       "    <tr>\n",
       "      <th>2016</th>\n",
       "      <td>-25.5</td>\n",
       "      <td>25.8</td>\n",
       "    </tr>\n",
       "  </tbody>\n",
       "</table>\n",
       "</div>"
      ],
      "text/plain": [
       "     Temperature      \n",
       "             min   max\n",
       "year                  \n",
       "1955       -26.2  20.4\n",
       "1956       -30.0  26.0\n",
       "1957       -19.9  25.2\n",
       "1958       -27.9  28.1\n",
       "1959       -23.2  28.2\n",
       "1960       -28.3  29.0\n",
       "1961       -23.5  19.0\n",
       "2013       -13.3  10.2\n",
       "2014       -24.3  29.1\n",
       "2015       -19.6  26.8\n",
       "2016       -25.5  25.8"
      ]
     },
     "execution_count": 10,
     "metadata": {},
     "output_type": "execute_result"
    }
   ],
   "source": [
    "DT.groupby('year').agg({'Temperature': ['min', 'max']})"
   ]
  },
  {
   "cell_type": "markdown",
   "metadata": {},
   "source": [
    "#### 2)Count the number of readings for each month in the period of 1950-2014 which are higher than 10 degrees.Repeat the exercise,this time taking only distinct readings from each station. That is, if a station reported are a ding above 10 degrees in some month,then it appears only once in the count for that month.In this exercise you will use the temperature-readings.csvfile.¶\n",
    "#### The out put should contain the following information:Year, month, count\n"
   ]
  },
  {
   "cell_type": "code",
   "execution_count": 11,
   "metadata": {},
   "outputs": [],
   "source": [
    "y = lines.map(lambda x: ( (x[1][0:4],x[1][5:7]),float(x[3]) ))\n",
    "\n",
    "y = y.filter(lambda x: int(x[0][0]) >= 1950 and int(x[0][0]) <= 2014)\n",
    "\n",
    "#############################\n",
    "tempsOver= y.filter(lambda x : x[1] >= 10)\n",
    "\n",
    "tempsOver_unpack=tempsOver.map(lambda x: (x[0][0], x[0][1],float(x[1]) ))\n",
    "\n",
    "tempsDf=sqlContext.createDataFrame(tempsOver_unpack, schema=['Year', 'Month','Temp'])"
   ]
  },
  {
   "cell_type": "code",
   "execution_count": 12,
   "metadata": {},
   "outputs": [
    {
     "name": "stdout",
     "output_type": "stream",
     "text": [
      "+----+-----+---+\n",
      "|Year|Month|cnt|\n",
      "+----+-----+---+\n",
      "|1955|   09| 55|\n",
      "|1955|   10| 23|\n",
      "|1956|   03|  4|\n",
      "|1956|   04|  7|\n",
      "|1956|   05| 60|\n",
      "|1956|   06| 92|\n",
      "|1956|   07|108|\n",
      "|1956|   08| 84|\n",
      "|1956|   09| 54|\n",
      "|1956|   10| 17|\n",
      "|1957|   03|  1|\n",
      "|1957|   04| 13|\n",
      "|1957|   05| 46|\n",
      "|1957|   06| 72|\n",
      "|1957|   07|109|\n",
      "|1957|   08| 96|\n",
      "|1957|   09| 43|\n",
      "|1957|   10|  9|\n",
      "|1958|   04|  4|\n",
      "|1958|   05| 40|\n",
      "+----+-----+---+\n",
      "only showing top 20 rows\n",
      "\n"
     ]
    }
   ],
   "source": [
    "tempsDf.groupby(\"Year\", \"Month\").agg(F.count('Temp').alias(\"cnt\")).orderBy('Year','Month').show()"
   ]
  },
  {
   "cell_type": "markdown",
   "metadata": {},
   "source": [
    "#### Distinct"
   ]
  },
  {
   "cell_type": "code",
   "execution_count": 38,
   "metadata": {},
   "outputs": [],
   "source": [
    "\n",
    "tempsOver_unpack1=tempsOver_unpack.distinct()\n",
    "\n",
    "tempsDf1=sqlContext.createDataFrame(tempsOver_unpack1, schema=['Year', 'Month','Temp'])\n"
   ]
  },
  {
   "cell_type": "code",
   "execution_count": 39,
   "metadata": {},
   "outputs": [
    {
     "name": "stdout",
     "output_type": "stream",
     "text": [
      "+----+-----+---+\n",
      "|Year|Month|cnt|\n",
      "+----+-----+---+\n",
      "|1955|   09| 35|\n",
      "|1955|   10| 20|\n",
      "|1956|   03|  4|\n",
      "|1956|   04|  5|\n",
      "|1956|   05| 44|\n",
      "|1956|   06| 58|\n",
      "|1956|   07| 76|\n",
      "|1956|   08| 49|\n",
      "|1956|   09| 30|\n",
      "|1956|   10| 13|\n",
      "|1957|   03|  1|\n",
      "|1957|   04| 13|\n",
      "|1957|   05| 33|\n",
      "|1957|   06| 51|\n",
      "|1957|   07| 69|\n",
      "|1957|   08| 58|\n",
      "|1957|   09| 27|\n",
      "|1957|   10|  8|\n",
      "|1958|   04|  3|\n",
      "|1958|   05| 31|\n",
      "+----+-----+---+\n",
      "only showing top 20 rows\n",
      "\n"
     ]
    }
   ],
   "source": [
    "tempsDf1.groupby(\"Year\", \"Month\").agg(F.count('Temp').alias(\"cnt\")).orderBy('Year','Month').show()"
   ]
  },
  {
   "cell_type": "markdown",
   "metadata": {},
   "source": [
    "#### 3)Find the average monthly temperature for each available station in Sweden. Your result should include average temperature for each station for each month in the period of 1960-2014. Bear in mind that not every station has the readings for each month in this timeframe.In this exercise you will use the temperature-readings.csvfile.¶\n",
    "#### The output should contain the following information: Year, month, station number, average monthly temperature\n"
   ]
  },
  {
   "cell_type": "code",
   "execution_count": 33,
   "metadata": {},
   "outputs": [],
   "source": [
    "rdd = lines.map(lambda x: ( (x[1][0:4],x[1][5:7],x[0],x[1][8:10]),float(x[3]) ))\n",
    "\n",
    "rdd = rdd.filter(lambda x: int(x[0][0]) >= 1960 and int(x[0][0]) <= 2014)\n",
    "\n",
    "#############################\n",
    "\n",
    "rdd_filtered=rdd.map(lambda x: (x[0][2],x[0][0], x[0][1],x[0][3],float(x[1]) ))\n",
    "\n",
    "DF=sqlContext.createDataFrame(rdd_filtered, schema=['Station_number','Year', 'Month','Day','Temp'])"
   ]
  },
  {
   "cell_type": "code",
   "execution_count": null,
   "metadata": {},
   "outputs": [],
   "source": []
  },
  {
   "cell_type": "code",
   "execution_count": 34,
   "metadata": {},
   "outputs": [
    {
     "name": "stdout",
     "output_type": "stream",
     "text": [
      "+--------------+----+-----+---+----+\n",
      "|Station_number|Year|Month|Day|Temp|\n",
      "+--------------+----+-----+---+----+\n",
      "|        102170|2013|   11| 01| 6.8|\n",
      "|        102170|2013|   11| 01| 3.8|\n",
      "|        102170|2013|   11| 02| 5.8|\n",
      "|        102170|2013|   11| 02|-1.1|\n",
      "|        102170|2013|   11| 03|-0.2|\n",
      "|        102170|2013|   11| 03| 5.6|\n",
      "|        102170|2013|   11| 04| 6.5|\n",
      "|        102170|2013|   11| 04| 5.1|\n",
      "|        102170|2013|   11| 05| 4.2|\n",
      "|        102170|2013|   11| 05| 3.2|\n",
      "|        102170|2013|   11| 06| 1.7|\n",
      "|        102170|2013|   11| 06| 0.9|\n",
      "|        102170|2013|   11| 07|-0.1|\n",
      "|        102170|2013|   11| 07| 0.1|\n",
      "|        102170|2013|   11| 08|-1.2|\n",
      "|        102170|2013|   11| 08| 5.3|\n",
      "|        102170|2013|   11| 09| 5.6|\n",
      "|        102170|2013|   11| 09| 3.8|\n",
      "|        102170|2013|   11| 10| 2.2|\n",
      "|        102170|2013|   11| 10|-1.7|\n",
      "+--------------+----+-----+---+----+\n",
      "only showing top 20 rows\n",
      "\n"
     ]
    }
   ],
   "source": [
    "DF.show()"
   ]
  },
  {
   "cell_type": "code",
   "execution_count": 89,
   "metadata": {},
   "outputs": [
    {
     "name": "stdout",
     "output_type": "stream",
     "text": [
      "+----+-----+---+--------------+-------------------+\n",
      "|Year|Month|Day|Station_number|    avg_temperature|\n",
      "+----+-----+---+--------------+-------------------+\n",
      "|2014|   01| 01|        102170|                2.5|\n",
      "|2014|   01| 02|        102170|               1.75|\n",
      "|2014|   01| 03|        102170|                2.6|\n",
      "|2014|   01| 04|        102170|               4.85|\n",
      "|2014|   01| 05|        102170|               0.85|\n",
      "|2014|   01| 06|        102170|                1.6|\n",
      "|2014|   01| 07|        102170|               6.55|\n",
      "|2014|   01| 08|        102170|  5.550000000000001|\n",
      "|2014|   01| 09|        102170|                2.4|\n",
      "|2014|   01| 10|        102170|              -1.65|\n",
      "|2014|   01| 11|        102170|               -7.8|\n",
      "|2014|   01| 12|        102170|             -13.95|\n",
      "|2014|   01| 13|        102170|-15.450000000000001|\n",
      "|2014|   01| 14|        102170|               -8.0|\n",
      "|2014|   01| 15|        102170|               -7.0|\n",
      "|2014|   01| 16|        102170|              -6.45|\n",
      "|2014|   01| 17|        102170|               -7.7|\n",
      "|2014|   01| 18|        102170|              -7.45|\n",
      "|2014|   01| 19|        102170|               -5.5|\n",
      "|2014|   01| 20|        102170|              -6.05|\n",
      "+----+-----+---+--------------+-------------------+\n",
      "only showing top 20 rows\n",
      "\n"
     ]
    }
   ],
   "source": [
    "DT=DF.groupby( \"Year\",\"Month\",'Day','Station_number')\\\n",
    ".agg( (F.avg('Temp') ).alias(\"avg_temperature\"))\\\n",
    ".orderBy('Station_number','Month','Day')\n",
    "DT.show()"
   ]
  },
  {
   "cell_type": "code",
   "execution_count": 92,
   "metadata": {},
   "outputs": [
    {
     "name": "stdout",
     "output_type": "stream",
     "text": [
      "+----+-----+--------------+--------------------+\n",
      "|Year|Month|Station_number|     avg_temperature|\n",
      "+----+-----+--------------+--------------------+\n",
      "|1960|   01|        102190|  -6.875000000000001|\n",
      "|1960|   02|        102190|  -9.618103448275862|\n",
      "|1960|   03|        102190|  -2.279838709677419|\n",
      "|1960|   04|        102190|                2.51|\n",
      "|1960|   05|        102190|  10.768548387096775|\n",
      "|1960|   06|        102190|  15.769722222222223|\n",
      "|1960|   07|        102190|  14.205645161290322|\n",
      "|1960|   08|        102190|   13.41989247311828|\n",
      "|1960|   09|        102190|   9.402222222222223|\n",
      "|1960|   10|        102190|  2.0943548387096778|\n",
      "|1960|   11|        102190| -0.4299999999999999|\n",
      "|1960|   12|        102190|   -2.42741935483871|\n",
      "|1961|   01|        102190|  -7.215053763440861|\n",
      "|1961|   02|        102190| -2.1333333333333337|\n",
      "|1961|   03|        102190|   2.708602150537634|\n",
      "|1961|   04|        102190|   4.507777777777778|\n",
      "|1961|   05|        102190|  10.615333333333332|\n",
      "|2013|   11|        102170|-0.05166666666666...|\n",
      "|2013|   12|        102170|  0.7096774193548387|\n",
      "|2014|   01|        102170|  -4.106451612903226|\n",
      "+----+-----+--------------+--------------------+\n",
      "only showing top 20 rows\n",
      "\n"
     ]
    }
   ],
   "source": [
    "DT.groupBy('Year','Month','Station_number')\\\n",
    ".agg( (F.sum('avg_temperature')/F.count('avg_temperature') ).alias(\"avg_temperature\"))\\\n",
    ".orderBy('Year','Month','Station_number').show()"
   ]
  },
  {
   "cell_type": "markdown",
   "metadata": {},
   "source": [
    "#### 4) Provide a list of stations with their associated maximum measured temperatures and maximum measured daily precipitation. Show only those stations where the maximum temperature is between 25 and 30 degrees and maximum daily precipitation is between 100 mm and 200mm.In this exercise you will use the temperature-readings.csvand precipitation-readings.csvfiles.The output should contain the following information: Station number, maximum measured temperature, maximum daily precipitation¶\n",
    "#### HINT: The correct result for this question should be empty\n"
   ]
  },
  {
   "cell_type": "code",
   "execution_count": 16,
   "metadata": {},
   "outputs": [],
   "source": [
    "l = T.map(lambda line: line.split(\";\"))\n",
    "\n",
    "station_temperature = l.map(lambda x: (x[0], float(x[3])))\n",
    "\n",
    "#station_temperature = station_temperature.filter(lambda x: int(x[0]) >= 1950 and int(x[0]) <= 2014)\n",
    "\n",
    "max_temp_station= station_temperature.reduceByKey(lambda x,y :x if x>=y else y)\n",
    "\n",
    "max_temp_station=max_temp_station.filter(lambda x: x[1]>=25. and x[1]<=30.)\n",
    "\n",
    "max_temp_st=max_temp_station.map(lambda x: (x[0],float(x[1]) ))\n",
    "\n",
    "DataFrame_st=sqlContext.createDataFrame(max_temp_st, schema=['Station_number','Temp'])"
   ]
  },
  {
   "cell_type": "code",
   "execution_count": 17,
   "metadata": {},
   "outputs": [
    {
     "name": "stdout",
     "output_type": "stream",
     "text": [
      "+--------------+----+\n",
      "|Station_number|Temp|\n",
      "+--------------+----+\n",
      "|        102170|29.1|\n",
      "|        102190|29.0|\n",
      "+--------------+----+\n",
      "\n"
     ]
    }
   ],
   "source": [
    "DataFrame_st.show()"
   ]
  },
  {
   "cell_type": "code",
   "execution_count": 76,
   "metadata": {},
   "outputs": [
    {
     "name": "stdout",
     "output_type": "stream",
     "text": [
      "+--------------+-------------+\n",
      "|Station_number|precipitation|\n",
      "+--------------+-------------+\n",
      "|         77210|         18.9|\n",
      "|        144310|         12.8|\n",
      "|        162860|         12.0|\n",
      "|        170860|         20.0|\n",
      "|        107140|         19.2|\n",
      "|        154860|         18.0|\n",
      "|        182810|         19.6|\n",
      "|        169790|         11.0|\n",
      "|        123060|         17.0|\n",
      "|        167990|         15.7|\n",
      "|        188790|         19.1|\n",
      "|        103420|         16.5|\n",
      "|        178860|         12.2|\n",
      "|         78400|         14.0|\n",
      "|         85240|         18.0|\n",
      "|        114410|         19.0|\n",
      "|        189720|         19.2|\n",
      "|         99280|         18.4|\n",
      "|        132170|         12.5|\n",
      "|        145130|         18.0|\n",
      "+--------------+-------------+\n",
      "only showing top 20 rows\n",
      "\n"
     ]
    }
   ],
   "source": [
    "prep=sc.textFile(\"C:/Users/quartermaine/Documents/Big Data Analytics Labs/precipitation-readings.csv\")\n",
    "\n",
    "L=prep.map(lambda line: line.split(\";\"))\n",
    "\n",
    "st = L.map(lambda x: (x[0], float(x[3])))\n",
    "\n",
    "max_st= st.reduceByKey(lambda x,y :x if x>=y else y)\n",
    "\n",
    "max_st=max_st.filter(lambda x: x[1]>=10. and x[1]<=20.)\n",
    "\n",
    "wst=max_st.map(lambda x: (x[0],float(x[1]) ))\n",
    "\n",
    "DataFrame_prep=sqlContext.createDataFrame(wst, schema=['Station_number','precipitation'])\n",
    "\n",
    "DataFrame_prep.show()"
   ]
  },
  {
   "cell_type": "code",
   "execution_count": 77,
   "metadata": {},
   "outputs": [
    {
     "name": "stdout",
     "output_type": "stream",
     "text": [
      "----Table with max temperatures and precipitation---\n",
      "+--------------+----+--------------+-------------+\n",
      "|Station_number|Temp|Station_number|precipitation|\n",
      "+--------------+----+--------------+-------------+\n",
      "+--------------+----+--------------+-------------+\n",
      "\n"
     ]
    }
   ],
   "source": [
    "inner_join = DataFrame_st.join(DataFrame_prep, DataFrame_st.Station_number == DataFrame_prep.Station_number)\n",
    "print(\"----Table with max temperatures and precipitation---\")\n",
    "inner_join.show()"
   ]
  },
  {
   "cell_type": "markdown",
   "metadata": {},
   "source": [
    "#### 5)Calculate the average monthly precipitation for the Östergotland region (list of stations is provided in the separate file)for the period1993-2016. In order to do this, you will first need to calculate the total monthly precipitation for each station before calculating the monthly average (by averaging over stations).In this exercise you will use the precipitation-readings.csvand stations-Ostergotland.csv files. HINT(not for the SparkSQL lab): Avoid using joins here! stations-Ostergotland.csv is small and if distributed will cause a number of unnecessary shuffles when joined with precipitationRDD. If you distribute precipitation-readings.csv then either repartition your stations RDD to 1 partition or make use of the collect to acquire a python list and broadcast function to broadcast the list to all nodes.¶\n",
    "#### The output should contain the following information: Year,month,average monthly precipitation\n"
   ]
  },
  {
   "cell_type": "code",
   "execution_count": 65,
   "metadata": {},
   "outputs": [],
   "source": [
    "stations=sc.textFile(\"C:/Users/quartermaine/Documents/Big Data Analytics Labs/stations-Ostergotland.csv\")\n",
    "precipitation=sc.textFile(\"C:/Users/quartermaine/Documents/Big Data Analytics Labs/precipitation-readings.csv\")\n",
    "\n",
    "stations=stations.map(lambda line: line.split(\";\"))\n",
    "precipitation=precipitation.map(lambda line:line.split(\";\"))\n",
    "\n",
    "df_precipitation=sqlContext.createDataFrame(precipitation, schema=['Station_number',\n",
    "                                                     'Date','Time','precipitation','quality'])\n",
    "\n",
    "df_stations=sqlContext.createDataFrame(stations, schema=['Station_number','Station_name','Measurment_height',\n",
    "                                                         'Latitude','Longtitude','Readings_from','Readings_to',\n",
    "                                                        'Elevation'])\n"
   ]
  },
  {
   "cell_type": "code",
   "execution_count": 66,
   "metadata": {},
   "outputs": [
    {
     "name": "stdout",
     "output_type": "stream",
     "text": [
      "+--------------+----------+--------+-------------+-------+\n",
      "|Station_number|      Date|    Time|precipitation|quality|\n",
      "+--------------+----------+--------+-------------+-------+\n",
      "|        103100|1995-08-01|00:00:00|          0.0|      Y|\n",
      "|        103100|1995-08-01|01:00:00|          0.0|      Y|\n",
      "|        103100|1995-08-01|02:00:00|          0.0|      Y|\n",
      "|        103100|1995-08-01|03:00:00|          0.0|      Y|\n",
      "|        103100|1995-08-01|04:00:00|          0.0|      Y|\n",
      "|        103100|1995-08-01|05:00:00|          0.0|      Y|\n",
      "|        103100|1995-08-01|06:00:00|          0.0|      Y|\n",
      "|        103100|1995-08-01|07:00:00|          0.0|      Y|\n",
      "|        103100|1995-08-01|08:00:00|          0.0|      Y|\n",
      "|        103100|1995-08-01|09:00:00|          0.0|      Y|\n",
      "|        103100|1995-08-01|10:00:00|          0.0|      Y|\n",
      "|        103100|1995-08-01|11:00:00|          0.0|      Y|\n",
      "|        103100|1995-08-01|12:00:00|          0.0|      Y|\n",
      "|        103100|1995-08-01|13:00:00|          0.0|      Y|\n",
      "|        103100|1995-08-01|14:00:00|          0.0|      Y|\n",
      "|        103100|1995-08-01|15:00:00|          0.0|      Y|\n",
      "|        103100|1995-08-01|16:00:00|          0.0|      Y|\n",
      "|        103100|1995-08-01|17:00:00|          0.0|      Y|\n",
      "|        103100|1995-08-01|18:00:00|          0.0|      Y|\n",
      "|        103100|1995-08-01|19:00:00|          0.0|      Y|\n",
      "+--------------+----------+--------+-------------+-------+\n",
      "only showing top 20 rows\n",
      "\n"
     ]
    }
   ],
   "source": [
    "df_precipitation.show()"
   ]
  },
  {
   "cell_type": "code",
   "execution_count": 67,
   "metadata": {},
   "outputs": [
    {
     "name": "stdout",
     "output_type": "stream",
     "text": [
      "+--------------+--------------------+-----------------+--------+----------+-------------------+-------------------+---------+\n",
      "|Station_number|        Station_name|Measurment_height|Latitude|Longtitude|      Readings_from|        Readings_to|Elevation|\n",
      "+--------------+--------------------+-----------------+--------+----------+-------------------+-------------------+---------+\n",
      "|         84260|             Örberga|              2.0| 58.4274|    14.826|1990-11-01 00:00:00|1993-03-31 23:59:59|    105.0|\n",
      "|         85630|           Västra Ny|              2.0|   58.65|     15.05|1961-01-01 00:00:00|1966-12-31 23:59:59|    120.0|\n",
      "|         85460|         Kettstaka A|              2.0| 58.7165|     15.03|1995-08-01 00:00:00|2016-10-01 08:00:00|    225.0|\n",
      "|         85450|            Godegård|              2.0| 58.7936|   15.1694|1961-01-01 00:00:00|1988-02-29 23:59:59|    130.0|\n",
      "|         85490|          Zinkgruvan|              2.0| 58.8063|   15.1285|1983-09-01 00:00:00|2016-08-31 23:59:59|    215.0|\n",
      "|         85650|          Kärnskogen|              2.0|   58.85|   15.2833|1951-01-01 00:00:00|1963-04-30 23:59:59|    108.0|\n",
      "|         85390|            Kvarn Mo|              2.0| 58.6277|   15.4372|2010-03-01 00:00:00|2016-10-01 08:00:00|     72.0|\n",
      "|         85410|            Finspång|              2.0| 58.7104|   15.8215|1990-11-01 00:00:00|1993-03-31 23:59:59|     41.0|\n",
      "|         86470|          Simonstorp|              2.0|58.78468|  16.15439|2014-06-01 00:00:00|2014-12-03 23:59:59|     80.0|\n",
      "|         86440|         Stavsjö Aut|              2.0| 58.7333|   16.3667|1993-07-01 00:00:00|1996-03-01 23:59:59|     60.0|\n",
      "|         86420|Kolmården-Strömsf...|              2.0| 58.6894|   16.3103|1995-12-15 00:00:00|2016-10-01 08:00:00|    153.0|\n",
      "|         86340|     Norrköping-SMHI|              2.0| 58.5833|     16.15|1993-04-28 00:00:00|2013-08-04 23:59:59|     21.0|\n",
      "|         86350|Norrköping-Kungsä...|              2.0| 58.5842|   16.2383|1972-10-01 00:00:00|1980-08-31 23:59:59|      5.0|\n",
      "|         86360|          Norrköping|              2.0|  58.606|   16.2127|1961-01-01 00:00:00|1964-03-31 23:59:59|      3.0|\n",
      "|         86370|    Norrköping-Sörby|              2.0| 58.6082|   16.1212|1949-01-01 00:00:00|1993-06-30 23:59:59|     27.0|\n",
      "|         86200|               Holma|              2.0| 58.3339|   16.8157|1962-05-01 00:00:00|1996-11-30 23:59:59|      5.0|\n",
      "|         86330|            Marviken|              2.0| 58.5491|   16.8157|1965-05-01 00:00:00|2002-06-30 23:59:59|     10.0|\n",
      "|         87140|          Harstena A|              2.0| 58.2505|   17.0106|1995-12-15 00:00:00|2016-10-01 08:00:00|     14.0|\n",
      "|         87150|            Harstena|              2.0| 58.2502|   17.0095|1951-01-01 00:00:00|2001-12-10 23:59:59|      5.0|\n",
      "|         86130|        Valdemarsvik|              2.0| 58.2148|   16.5828|1990-11-01 00:00:00|1993-03-31 23:59:59|     10.0|\n",
      "+--------------+--------------------+-----------------+--------+----------+-------------------+-------------------+---------+\n",
      "only showing top 20 rows\n",
      "\n"
     ]
    }
   ],
   "source": [
    "df_stations.show()"
   ]
  },
  {
   "cell_type": "code",
   "execution_count": 68,
   "metadata": {},
   "outputs": [
    {
     "name": "stdout",
     "output_type": "stream",
     "text": [
      "+----------+-----------+--------------+--------------------+\n",
      "|year(Date)|month(Date)|Station_number|   avg_precipitation|\n",
      "+----------+-----------+--------------+--------------------+\n",
      "|      2008|         11|        103100|  0.0844444444444445|\n",
      "|      2013|          5|        103100| 0.03454301075268818|\n",
      "|      2015|          1|        103100|  0.1138440860215054|\n",
      "|      2015|          6|        103100| 0.11944444444444446|\n",
      "|      2011|          8|        104580| 0.12002688172043008|\n",
      "|      2014|          1|        104580| 0.07217741935483882|\n",
      "|      2015|          9|        105220|  0.2039829302987195|\n",
      "|      2016|          1|        105220| 0.08301886792452835|\n",
      "|      2010|          3|        106570|0.032436069986541055|\n",
      "|      2012|          3|        106570|0.007258064516129033|\n",
      "|      2004|          1|        107420|0.057997218358831724|\n",
      "|      2007|          6|        107420| 0.07138888888888892|\n",
      "|      2005|          4|        114140| 0.02743732590529248|\n",
      "|      2011|          3|        114410| 0.01924119241192411|\n",
      "|      2005|          3|        116490|0.013037634408602148|\n",
      "|      2015|         11|        116490|0.025314685314685312|\n",
      "|      2005|         12|        117430| 0.04475806451612906|\n",
      "|      2002|         11|        123460|0.039275766016713134|\n",
      "|      2012|          2|        123460|0.017241379310344817|\n",
      "|      2012|          1|        125440| 0.07270270270270279|\n",
      "+----------+-----------+--------------+--------------------+\n",
      "only showing top 20 rows\n",
      "\n"
     ]
    }
   ],
   "source": [
    "D_grouped=df_precipitation.groupBy(F.year(df_precipitation.Date),F.month(df_precipitation.Date),df_precipitation.Station_number)\\\n",
    ".agg(F.avg(df_precipitation.precipitation).alias(\"avg_precipitation\"))\n",
    "D_grouped.show()"
   ]
  },
  {
   "cell_type": "code",
   "execution_count": 75,
   "metadata": {},
   "outputs": [
    {
     "name": "stdout",
     "output_type": "stream",
     "text": [
      "+----------+-----------+--------------+--------------------+--------------+\n",
      "|year(Date)|month(Date)|Station_number|   avg_precipitation|Station_number|\n",
      "+----------+-----------+--------------+--------------------+--------------+\n",
      "|      1993|          9|         86340| 0.06023738872403561|         86340|\n",
      "|      1993|         10|         86340|0.058142664872139975|         86340|\n",
      "|      1993|          4|         86340|                 0.0|         86340|\n",
      "|      1993|          7|         86340| 0.12874493927125505|         86340|\n",
      "|      1993|          6|         86340| 0.09323432343234324|         86340|\n",
      "|      1993|         12|         86340|  0.0516713091922006|         86340|\n",
      "|      1993|          5|         86340| 0.02851351351351352|         86340|\n",
      "|      1993|         11|         86340|0.060537482319660586|         86340|\n",
      "|      1993|          8|         86340| 0.11414427157001421|         86340|\n",
      "|      1994|          2|         86340| 0.03393665158371041|         86340|\n",
      "|      1994|          1|         86340| 0.04062499999999999|         86340|\n",
      "|      1994|         11|         86340| 0.02183588317107092|         86340|\n",
      "|      1994|          8|         86340| 0.08155339805825246|         86340|\n",
      "|      1994|          3|         86340|  0.0516483516483517|         86340|\n",
      "|      1994|          7|         86340|                 0.0|         86340|\n",
      "|      1994|         10|         86340| 0.04486486486486488|         86340|\n",
      "|      1994|          4|         86340|0.032719546742209636|         86340|\n",
      "|      1994|          6|         86340| 0.06442857142857146|         86340|\n",
      "|      1994|         12|         86340| 0.07020689655172416|         86340|\n",
      "|      1994|          5|         86340| 0.03495821727019499|         86340|\n",
      "+----------+-----------+--------------+--------------------+--------------+\n",
      "only showing top 20 rows\n",
      "\n"
     ]
    }
   ],
   "source": [
    "from pyspark.sql.functions import broadcast\n",
    "df_stations1=df_stations.select('Station_number')\n",
    "D_grouped.join(broadcast(df_stations1), D_grouped.Station_number == df_stations1.Station_number)\\\n",
    ".orderBy('year(Date)').show()"
   ]
  },
  {
   "cell_type": "markdown",
   "metadata": {},
   "source": [
    "#### 6)Compare the average monthly temperature(find the difference)in the period1950-2014 for all stations in Östergotland with long-term monthly averages in the period of 1950-1980. Make a plot of your results.\n",
    "#### HINT:The first step is to find the monthly averages for each station.In the next step,you can average over all stations to acquire the average temperature for a specific year and month. This  RDD/DataFrame can be used to compute the long-term average by averaging over all the years in the interval.The output should contain the following information: Year, month,difference"
   ]
  },
  {
   "cell_type": "code",
   "execution_count": null,
   "metadata": {},
   "outputs": [],
   "source": []
  }
 ],
 "metadata": {
  "kernelspec": {
   "display_name": "Python 3",
   "language": "python",
   "name": "python3"
  },
  "language_info": {
   "codemirror_mode": {
    "name": "ipython",
    "version": 3
   },
   "file_extension": ".py",
   "mimetype": "text/x-python",
   "name": "python",
   "nbconvert_exporter": "python",
   "pygments_lexer": "ipython3",
   "version": "3.6.8"
  }
 },
 "nbformat": 4,
 "nbformat_minor": 2
}
