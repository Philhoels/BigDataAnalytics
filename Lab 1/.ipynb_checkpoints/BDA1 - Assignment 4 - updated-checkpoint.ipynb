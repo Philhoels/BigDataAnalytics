{
 "cells": [
  {
   "cell_type": "markdown",
   "metadata": {},
   "source": [
    "The code for question 4 is not completely correct. Daily precipitation means the sum of precipitations in a day. Please notice that each raw in the precipitation file represent the precipitation in that hour of the day.\n",
    "Before you get the maximum, you are supposed to sum up precipitations on the RDD st. Then remove date from the key field to get the maximum. \n",
    "In addition, the unit of precipitation in the data is mm. The question asks the range between 100mm and 200mm. So you don't need to change it in your code."
   ]
  },
  {
   "cell_type": "markdown",
   "metadata": {},
   "source": [
    "__Below is the code used for the lab__"
   ]
  },
  {
   "cell_type": "code",
   "execution_count": 25,
   "metadata": {},
   "outputs": [],
   "source": [
    "# to run this code in jupyter did I changed some variables\n",
    "# make set up\n",
    "from pyspark import SparkContext, SparkConf\n",
    "import pyspark\n",
    "\n",
    "# create spark context\n",
    "sc = SparkContext.getOrCreate()\n",
    "\n"
   ]
  },
  {
   "cell_type": "code",
   "execution_count": 26,
   "metadata": {},
   "outputs": [
    {
     "data": {
      "text/plain": [
       "[(('102170', '2014-07-22'), 28.0),\n",
       " (('102170', '2014-07-23'), 29.1),\n",
       " (('102170', '2014-07-26'), 28.7),\n",
       " (('102170', '2014-07-29'), 25.5),\n",
       " (('102170', '2015-07-01'), 26.8),\n",
       " (('102170', '2015-07-02'), 25.7),\n",
       " (('102170', '2015-07-05'), 26.1),\n",
       " (('102170', '2016-05-31'), 25.3),\n",
       " (('102190', '1956-06-10'), 26.0),\n",
       " (('102190', '1956-07-10'), 25.5)]"
      ]
     },
     "execution_count": 26,
     "metadata": {},
     "output_type": "execute_result"
    }
   ],
   "source": [
    "#T = sc.textFile(\"/user/x_phiho/data/temperature-readings.csv\")\n",
    "T = sc.textFile(\"/Users/phillipholscher/OneDrive - Linköpings universitet/LiU/Statistics and Machine Learning/Spring19T2/Big Data Analytics/Labs/Lab 2/temperature-readings-tiny.csv\")\n",
    "l = T.map(lambda line: line.split(\";\"))\n",
    "\n",
    "#####\n",
    "\n",
    "\n",
    "station_temperature = l.map(lambda x:( (x[0],x[1]) ,float(x[3])))\n",
    "\n",
    "\n",
    "max_temp_station= station_temperature.reduceByKey(lambda x,y :x if x>=y else y)\n",
    "\n",
    "max_temp_station=max_temp_station.filter(lambda x: x[1]>=25. and x[1]<=30.)\n",
    "\n",
    "max_temp_st=max_temp_station.map(lambda x: (x[0],float(x[1])))\n",
    "max_temp_st.take(10)\n"
   ]
  },
  {
   "cell_type": "code",
   "execution_count": 27,
   "metadata": {},
   "outputs": [
    {
     "data": {
      "text/plain": [
       "[(('105220', '1997-07-01'), 18.7),\n",
       " (('105220', '2004-02-04'), 10.0),\n",
       " (('106570', '1997-06-10'), 12.8),\n",
       " (('106570', '2004-07-19'), 15.5),\n",
       " (('108320', '2010-06-30'), 10.0),\n",
       " (('114140', '2009-07-30'), 10.7),\n",
       " (('114140', '2012-08-26'), 11.5),\n",
       " (('114410', '2013-07-31'), 12.2),\n",
       " (('122260', '2010-08-03'), 10.1),\n",
       " (('123060', '1996-06-17'), 11.9)]"
      ]
     },
     "execution_count": 27,
     "metadata": {},
     "output_type": "execute_result"
    }
   ],
   "source": [
    "\n",
    "#prep = sc.textFile(\"/user/x_phiho/data/precipitation-readings.csv\")\n",
    "prep = sc.textFile(\"/Users/phillipholscher/OneDrive - Linköpings universitet/LiU/Statistics and Machine Learning/Spring19T2/Big Data Analytics/Labs/Lab 2/precipitation-readings.csv\")\n",
    "\n",
    "L=prep.map(lambda line: line.split(\";\"))\n",
    "\n",
    "st = L.map(lambda x: ( (x[0],x[1]) ,float(x[3])) )\n",
    "\n",
    "max_st= st.reduceByKey(lambda x,y :x if x>=y else y)\n",
    "\n",
    "max_st=max_st.filter(lambda x: x[1]>=10. and x[1]<=20.)\n",
    "\n",
    "wst=max_st.map(lambda x: (x[0],float(x[1])))\n",
    "\n",
    "wst.take(10)\n"
   ]
  },
  {
   "cell_type": "code",
   "execution_count": 28,
   "metadata": {},
   "outputs": [
    {
     "ename": "AttributeError",
     "evalue": "'list' object has no attribute 'take'",
     "output_type": "error",
     "traceback": [
      "\u001b[0;31m---------------------------------------------------------------------------\u001b[0m",
      "\u001b[0;31mAttributeError\u001b[0m                            Traceback (most recent call last)",
      "\u001b[0;32m<ipython-input-28-1edabd8324e0>\u001b[0m in \u001b[0;36m<module>\u001b[0;34m()\u001b[0m\n\u001b[1;32m      2\u001b[0m \u001b[0;34m\u001b[0m\u001b[0m\n\u001b[1;32m      3\u001b[0m \u001b[0;31m#max_temp_st_result.saveAsTextFile(\"results/A4\")\u001b[0m\u001b[0;34m\u001b[0m\u001b[0;34m\u001b[0m\u001b[0m\n\u001b[0;32m----> 4\u001b[0;31m \u001b[0mmax_temp_st_result\u001b[0m\u001b[0;34m.\u001b[0m\u001b[0mtake\u001b[0m\u001b[0;34m(\u001b[0m\u001b[0;36m10\u001b[0m\u001b[0;34m)\u001b[0m\u001b[0;34m\u001b[0m\u001b[0m\n\u001b[0m",
      "\u001b[0;31mAttributeError\u001b[0m: 'list' object has no attribute 'take'"
     ]
    }
   ],
   "source": [
    "max_temp_st_result = max_temp_st.join(wst).collect()\n",
    "\n",
    "#max_temp_st_result.saveAsTextFile(\"results/A4\")\n",
    "max_temp_st_result.take(10)\n"
   ]
  },
  {
   "cell_type": "code",
   "execution_count": null,
   "metadata": {},
   "outputs": [],
   "source": [
    "#######################################\n",
    "# the new code part starts here"
   ]
  },
  {
   "cell_type": "code",
   "execution_count": 29,
   "metadata": {},
   "outputs": [
    {
     "data": {
      "text/plain": [
       "[((102170, '2013', '11', '01'), 6.8),\n",
       " ((102170, '2013', '11', '01'), 3.8),\n",
       " ((102170, '2013', '11', '02'), 5.8),\n",
       " ((102170, '2013', '11', '02'), -1.1),\n",
       " ((102170, '2013', '11', '03'), -0.2),\n",
       " ((102170, '2013', '11', '03'), 5.6),\n",
       " ((102170, '2013', '11', '04'), 6.5),\n",
       " ((102170, '2013', '11', '04'), 5.1),\n",
       " ((102170, '2013', '11', '05'), 4.2),\n",
       " ((102170, '2013', '11', '05'), 3.2)]"
      ]
     },
     "execution_count": 29,
     "metadata": {},
     "output_type": "execute_result"
    }
   ],
   "source": [
    "# filter for needed values - station, precip & year, month day \n",
    "# we need to calculate the daily precipitation\n",
    "data_precip = l.map(lambda x: ((int(x[0]), x[1][0:4], x[1][5:7], x[1][8:10]), float(x[3])))\n",
    "data_precip.take(10)"
   ]
  },
  {
   "cell_type": "code",
   "execution_count": 30,
   "metadata": {},
   "outputs": [
    {
     "data": {
      "text/plain": [
       "[((102170, '2013', '11', '01'), 10.6),\n",
       " ((102170, '2013', '11', '02'), 4.699999999999999),\n",
       " ((102170, '2013', '11', '04'), 11.6),\n",
       " ((102170, '2013', '11', '08'), 4.1),\n",
       " ((102170, '2013', '11', '11'), -5.3),\n",
       " ((102170, '2013', '11', '13'), 0.0),\n",
       " ((102170, '2013', '11', '15'), 10.0),\n",
       " ((102170, '2013', '11', '18'), 7.0),\n",
       " ((102170, '2013', '11', '23'), -21.6),\n",
       " ((102170, '2013', '11', '25'), -6.1)]"
      ]
     },
     "execution_count": 30,
     "metadata": {},
     "output_type": "execute_result"
    }
   ],
   "source": [
    "# calculate the daily precipitation\n",
    "# sum all precipitation for each day and station\n",
    "data_daily_precip = data_precip.reduceByKey(lambda a,b: a + b)\n",
    "data_daily_precip.take(10)"
   ]
  },
  {
   "cell_type": "code",
   "execution_count": 31,
   "metadata": {},
   "outputs": [
    {
     "data": {
      "text/plain": [
       "[(102170, 10.6),\n",
       " (102170, 4.699999999999999),\n",
       " (102170, 11.6),\n",
       " (102170, 4.1),\n",
       " (102170, -5.3),\n",
       " (102170, 0.0),\n",
       " (102170, 10.0),\n",
       " (102170, 7.0),\n",
       " (102170, -21.6),\n",
       " (102170, -6.1)]"
      ]
     },
     "execution_count": 31,
     "metadata": {},
     "output_type": "execute_result"
    }
   ],
   "source": [
    "# we just need a list of station nr and daily precip\n",
    "data_daily_precip = data_daily_precip.map(lambda x: (x[0][0], x[1]))\n",
    "data_daily_precip.take(10)"
   ]
  },
  {
   "cell_type": "code",
   "execution_count": 32,
   "metadata": {},
   "outputs": [
    {
     "data": {
      "text/plain": [
       "[(102170, 48.9), (102190, 89.7)]"
      ]
     },
     "execution_count": 32,
     "metadata": {},
     "output_type": "execute_result"
    }
   ],
   "source": [
    "# compute the max precip for each station\n",
    "data_precip_max_station = data_daily_precip.reduceByKey(lambda a,b: a if a >= b else b)\n",
    "data_precip_max_station.take(10)"
   ]
  },
  {
   "cell_type": "code",
   "execution_count": null,
   "metadata": {},
   "outputs": [],
   "source": []
  }
 ],
 "metadata": {
  "kernelspec": {
   "display_name": "Python 3",
   "language": "python",
   "name": "python3"
  },
  "language_info": {
   "codemirror_mode": {
    "name": "ipython",
    "version": 3
   },
   "file_extension": ".py",
   "mimetype": "text/x-python",
   "name": "python",
   "nbconvert_exporter": "python",
   "pygments_lexer": "ipython3",
   "version": "3.7.4"
  }
 },
 "nbformat": 4,
 "nbformat_minor": 2
}
