{
 "cells": [
  {
   "cell_type": "markdown",
   "metadata": {},
   "source": [
    "__BDA3 - Machine Learning with Spark - Exercises__"
   ]
  },
  {
   "cell_type": "markdown",
   "metadata": {},
   "source": [
    "Implement in Spark1 (PySpark) a kernel method to predict the hourly temperatures for a date and place\n",
    "in Sweden. To do so, you should use the files temperature-readings.csv and stations.csv. Specifically,\n",
    "the forecast should consist of the predicted temperatures from 4 am (04:00) to 12 am (00:00) in an\n",
    "interval of 2 hours for a date and place in Sweden. Use a kernel that is the sum of three Gaussian kernels:\n",
    "\n",
    "- The first to account for the distance from a station to the point of interest.\n",
    "- The second to account for the distance between the day a temperature measurement was made\n",
    "and the day of interest.\n",
    "- The third to account for the distance between the hour of the day a temperature measurement\n",
    "was made and the hour of interest.\n",
    "\n",
    "Choose an appropriate smoothing coefficient or width for each of the three kernels above. You do not need\n",
    "to use cross-validation."
   ]
  },
  {
   "cell_type": "markdown",
   "metadata": {},
   "source": [
    "__Questions__"
   ]
  },
  {
   "cell_type": "markdown",
   "metadata": {},
   "source": [
    "\n",
    "1) Show that your choice for the kernels’ width is sensible, i.e. it gives more weight to closer\n",
    "points. Discuss why your definition of closeness is reasonable.\n",
    "\n",
    "2) It is quite likely that the predicted temperatures do not differ much from one another. Do you think\n",
    "that the reason may be that the three Gaussian kernels are independent one of another?\n",
    "If so, propose an improved kernel, e.g. propose an alternative way of combining the three\n",
    "Gaussian kernels described above."
   ]
  },
  {
   "cell_type": "markdown",
   "metadata": {},
   "source": [
    "__Help__"
   ]
  },
  {
   "cell_type": "markdown",
   "metadata": {},
   "source": [
    "- Note that the file temperature-readings.csv may contain temperature measurements that are\n",
    "posterior to the day and hour of your forecast. You must filter such measurements out, i.e. they\n",
    "cannot be used to compute the forecast.\n",
    "\n",
    "- Cache the data you will reuse by using rdd.cache() . Check the course slides.\n",
    "\n",
    "- Avoid joining two RDDs. Instead, broadcast the smallest, if small enough. Check the course\n",
    "slides.\n",
    "\n",
    "- My program takes 5-6 minutes (wallclock) on the whole temperature-readings.csv. However,\n",
    "you may want to use a sample when implementing and testing different settings. Then, do\n",
    "rdd.sample(False, 0.1) to obtain a sample without replacement of size 10 %.\n",
    "- Feel free to use the template below to solve the assignment."
   ]
  },
  {
   "cell_type": "markdown",
   "metadata": {},
   "source": [
    "__Template__"
   ]
  },
  {
   "cell_type": "code",
   "execution_count": 1,
   "metadata": {},
   "outputs": [],
   "source": [
    "# list of all the impors\n",
    "from __future__ import division\n",
    "from math import radians, cos, sin, asin, sqrt, exp \n",
    "from datetime import datetime\n",
    "from pyspark import SparkContext\n",
    "from pyspark.context import SparkContext,SparkConf\n",
    "from pyspark.sql.session import SparkSession\n",
    "import pyspark"
   ]
  },
  {
   "cell_type": "code",
   "execution_count": 2,
   "metadata": {},
   "outputs": [],
   "source": [
    "# create spark context\n",
    "sc = SparkContext(appName=\"lab_kernel\") \n",
    "#sc = SparkContext.getOrCreate()"
   ]
  },
  {
   "cell_type": "code",
   "execution_count": 3,
   "metadata": {},
   "outputs": [],
   "source": [
    "#given function - dist in km\n",
    "def haversine(lon1, lat1, lon2, lat2):\n",
    "    \n",
    "    \"\"\"\n",
    "    Calculate the great circle distance between two points\n",
    "    on the earth (specified in decimal degrees)\n",
    "    \"\"\"\n",
    "    # convert decimal degrees to radians\n",
    "    lon1, lat1, lon2, lat2 = map(radians, [lon1, lat1, lon2, lat2])\n",
    "    # haversine formula\n",
    "    dlon = lon2 - lon1\n",
    "    dlat = lat2 - lat1\n",
    "    a = sin(dlat/2)**2 + cos(lat1) * cos(lat2) * sin(dlon/2)**2\n",
    "    c = 2 * asin(sqrt(a))\n",
    "    km = 6367 * c\n",
    "    return km"
   ]
  },
  {
   "cell_type": "code",
   "execution_count": 28,
   "metadata": {},
   "outputs": [
    {
     "ename": "TypeError",
     "evalue": "descriptor 'date' requires a 'datetime.datetime' object but received a 'int'",
     "output_type": "error",
     "traceback": [
      "\u001b[0;31m---------------------------------------------------------------------------\u001b[0m",
      "\u001b[0;31mTypeError\u001b[0m                                 Traceback (most recent call last)",
      "\u001b[0;32m<ipython-input-28-8874092cf3f2>\u001b[0m in \u001b[0;36m<module>\u001b[0;34m()\u001b[0m\n\u001b[1;32m      9\u001b[0m \u001b[0;34m\u001b[0m\u001b[0m\n\u001b[1;32m     10\u001b[0m \u001b[0mdate\u001b[0m \u001b[0;34m=\u001b[0m \u001b[0;34m\"2013-07-04\"\u001b[0m \u001b[0;31m# Up to you\u001b[0m\u001b[0;34m\u001b[0m\u001b[0m\n\u001b[0;32m---> 11\u001b[0;31m \u001b[0mdata_object\u001b[0m \u001b[0;34m=\u001b[0m \u001b[0mdatetime\u001b[0m\u001b[0;34m.\u001b[0m\u001b[0mdate\u001b[0m\u001b[0;34m(\u001b[0m\u001b[0;36m2013\u001b[0m\u001b[0;34m,\u001b[0m \u001b[0;36m7\u001b[0m\u001b[0;34m,\u001b[0m \u001b[0;36m4\u001b[0m\u001b[0;34m)\u001b[0m\u001b[0;34m\u001b[0m\u001b[0m\n\u001b[0m",
      "\u001b[0;31mTypeError\u001b[0m: descriptor 'date' requires a 'datetime.datetime' object but received a 'int'"
     ]
    }
   ],
   "source": [
    "# init values\n",
    "h_distance = 1000# Up to you\n",
    "h_date = 3# Up to you\n",
    "h_time = 3600 * 2# Up to you\n",
    "\n",
    "\n",
    "a = 58.4274 # Up to you\n",
    "b = 14.826 # Up to you\n",
    "\n",
    "date = \"2013-07-04\" # Up to you\n",
    "data_object = datetime.date(2013, 7, 4)\n"
   ]
  },
  {
   "cell_type": "code",
   "execution_count": 17,
   "metadata": {},
   "outputs": [],
   "source": [
    "# load the data\n",
    "path_stations = \"/Users/phillipholscher/Desktop/stations.csv\"\n",
    "path_temp = \"/Users/phillipholscher/Desktop/temperature-readings-tiny.csv\"\n",
    "stations = sc.textFile(path_stations)\n",
    "temps = sc.textFile(path_temp)"
   ]
  },
  {
   "cell_type": "code",
   "execution_count": 18,
   "metadata": {},
   "outputs": [],
   "source": [
    "# make usable rdds\n",
    "# temp\n",
    "temps_rdd = temps.map(lambda line: line.split(\";\"))\n",
    "# station\n",
    "stations_rdd = stations.map(lambda line: line.split(\";\"))"
   ]
  },
  {
   "cell_type": "code",
   "execution_count": 47,
   "metadata": {},
   "outputs": [
    {
     "ename": "TypeError",
     "evalue": "an integer is required (got type str)",
     "output_type": "error",
     "traceback": [
      "\u001b[0;31m---------------------------------------------------------------------------\u001b[0m",
      "\u001b[0;31mTypeError\u001b[0m                                 Traceback (most recent call last)",
      "\u001b[0;32m<ipython-input-47-aea050adfc2f>\u001b[0m in \u001b[0;36m<module>\u001b[0;34m()\u001b[0m\n\u001b[1;32m      1\u001b[0m \u001b[0;31m# function for day distance\u001b[0m\u001b[0;34m\u001b[0m\u001b[0;34m\u001b[0m\u001b[0m\n\u001b[0;32m----> 2\u001b[0;31m \u001b[0mdatetime\u001b[0m\u001b[0;34m.\u001b[0m\u001b[0mtime\u001b[0m\u001b[0;34m(\u001b[0m\u001b[0;34m'2013-07-04'\u001b[0m\u001b[0;34m)\u001b[0m\u001b[0;34m\u001b[0m\u001b[0m\n\u001b[0m\u001b[1;32m      3\u001b[0m \u001b[0;34m\u001b[0m\u001b[0m\n",
      "\u001b[0;31mTypeError\u001b[0m: an integer is required (got type str)"
     ]
    }
   ],
   "source": [
    "# function for day distance\n"
   ]
  },
  {
   "cell_type": "code",
   "execution_count": 42,
   "metadata": {},
   "outputs": [
    {
     "data": {
      "text/plain": [
       "'2013-07-04'"
      ]
     },
     "execution_count": 42,
     "metadata": {},
     "output_type": "execute_result"
    }
   ],
   "source": [
    "times = sc.parallelize()"
   ]
  },
  {
   "cell_type": "code",
   "execution_count": null,
   "metadata": {},
   "outputs": [],
   "source": [
    "# function for hour distance"
   ]
  },
  {
   "cell_type": "code",
   "execution_count": 36,
   "metadata": {},
   "outputs": [],
   "source": [
    "import datetime\n",
    "a = datetime\n",
    "# ...wait a while...\n",
    "datetime.time"
   ]
  },
  {
   "cell_type": "code",
   "execution_count": 37,
   "metadata": {},
   "outputs": [
    {
     "name": "stdout",
     "output_type": "stream",
     "text": [
      "0:00:09.066228\n"
     ]
    }
   ],
   "source": [
    "b = datetime.datetime.now()\n",
    "print(b-a)\n"
   ]
  },
  {
   "cell_type": "code",
   "execution_count": null,
   "metadata": {},
   "outputs": [],
   "source": [
    "# create a date object \n",
    "datetime.datetime(2013, 7, 04)"
   ]
  }
 ],
 "metadata": {
  "kernelspec": {
   "display_name": "Python 3",
   "language": "python",
   "name": "python3"
  },
  "language_info": {
   "codemirror_mode": {
    "name": "ipython",
    "version": 3
   },
   "file_extension": ".py",
   "mimetype": "text/x-python",
   "name": "python",
   "nbconvert_exporter": "python",
   "pygments_lexer": "ipython3",
   "version": "3.7.4"
  }
 },
 "nbformat": 4,
 "nbformat_minor": 2
}
