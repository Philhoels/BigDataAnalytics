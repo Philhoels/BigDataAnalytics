{
 "cells": [
  {
   "cell_type": "markdown",
   "metadata": {},
   "source": [
    "__ Assignment 2__ "
   ]
  },
  {
   "cell_type": "markdown",
   "metadata": {},
   "source": [
    "2) Count the number of readings for each month in the period of 1950-2014 which are higher than 10 degrees. Repeat the exercise, this time taking only distinct readings from each station. That is, if a station reported a reading above 10 degrees in some month, then it appears only once in the count for that month.\n",
    "\n",
    "In this exercise you will use the temperature-readings.csv file. The output should contain the following information:\n",
    "__Year, month, count__"
   ]
  },
  {
   "cell_type": "markdown",
   "metadata": {},
   "source": [
    "For each question include the following data in the report and sort it as shown:\n",
    "- year, month, value ORDER BY value DESC \n",
    "- year, month, value ORDER BY value DESC"
   ]
  },
  {
   "cell_type": "code",
   "execution_count": 1,
   "metadata": {},
   "outputs": [],
   "source": [
    "# create the setup\n",
    "from pyspark import SparkContext\n",
    "from pyspark.sql import SQLContext, Row  \n",
    "from pyspark.sql import functions as F\n",
    "sc =SparkContext()\n",
    "sqlContext=SQLContext(sc)"
   ]
  },
  {
   "cell_type": "code",
   "execution_count": 2,
   "metadata": {},
   "outputs": [],
   "source": [
    "path_unifolder_temp_tiny = \"/Users/phillipholscher/OneDrive - Linköpings universitet/LiU/Statistics and Machine Learning/Spring19T2/Big Data Analytics/Labs/Lab 2/temperature-readings-tiny.csv\"\n"
   ]
  },
  {
   "cell_type": "code",
   "execution_count": 8,
   "metadata": {},
   "outputs": [
    {
     "data": {
      "text/plain": [
       "[Row(Temp=6.8, date='2013-11-01', month='11', quality='G', station='102170', time='06:00:00', year='2013'),\n",
       " Row(Temp=3.8, date='2013-11-01', month='11', quality='G', station='102170', time='18:00:00', year='2013'),\n",
       " Row(Temp=5.8, date='2013-11-02', month='11', quality='G', station='102170', time='06:00:00', year='2013'),\n",
       " Row(Temp=-1.1, date='2013-11-02', month='11', quality='G', station='102170', time='18:00:00', year='2013'),\n",
       " Row(Temp=-0.2, date='2013-11-03', month='11', quality='G', station='102170', time='06:00:00', year='2013'),\n",
       " Row(Temp=5.6, date='2013-11-03', month='11', quality='G', station='102170', time='18:00:00', year='2013'),\n",
       " Row(Temp=6.5, date='2013-11-04', month='11', quality='G', station='102170', time='06:00:00', year='2013'),\n",
       " Row(Temp=5.1, date='2013-11-04', month='11', quality='G', station='102170', time='18:00:00', year='2013'),\n",
       " Row(Temp=4.2, date='2013-11-05', month='11', quality='G', station='102170', time='06:00:00', year='2013'),\n",
       " Row(Temp=3.2, date='2013-11-05', month='11', quality='G', station='102170', time='18:00:00', year='2013')]"
      ]
     },
     "execution_count": 8,
     "metadata": {},
     "output_type": "execute_result"
    }
   ],
   "source": [
    "# read and create rdd, this needs to be tranfsormed to data frame later on\n",
    "temps= sc.textFile(path_unifolder_temp_tiny)\n",
    "parts = temps.map(lambda l:l.split(\";\"))\n",
    "tempReadings = parts.map(lambda p: Row(station=p[0],  date=p[1], year=p[1].split(\"-\")[0], month=p[1].split(\"-\")[1], time=p[2],  Temp=float(p[3]), quality=p[4]))\n",
    "tempReadings.take(10)\n"
   ]
  },
  {
   "cell_type": "code",
   "execution_count": 9,
   "metadata": {},
   "outputs": [
    {
     "name": "stdout",
     "output_type": "stream",
     "text": [
      "+----+----------+-----+-------+-------+--------+----+\n",
      "|Temp|      date|month|quality|station|    time|year|\n",
      "+----+----------+-----+-------+-------+--------+----+\n",
      "| 6.8|2013-11-01|   11|      G| 102170|06:00:00|2013|\n",
      "| 3.8|2013-11-01|   11|      G| 102170|18:00:00|2013|\n",
      "| 5.8|2013-11-02|   11|      G| 102170|06:00:00|2013|\n",
      "|-1.1|2013-11-02|   11|      G| 102170|18:00:00|2013|\n",
      "|-0.2|2013-11-03|   11|      G| 102170|06:00:00|2013|\n",
      "| 5.6|2013-11-03|   11|      G| 102170|18:00:00|2013|\n",
      "| 6.5|2013-11-04|   11|      G| 102170|06:00:00|2013|\n",
      "| 5.1|2013-11-04|   11|      G| 102170|18:00:00|2013|\n",
      "| 4.2|2013-11-05|   11|      G| 102170|06:00:00|2013|\n",
      "| 3.2|2013-11-05|   11|      G| 102170|18:00:00|2013|\n",
      "+----+----------+-----+-------+-------+--------+----+\n",
      "only showing top 10 rows\n",
      "\n"
     ]
    }
   ],
   "source": [
    "# create a data frame from rdd\n",
    "schemaTempReadings =  sqlContext.createDataFrame(tempReadings)\n",
    "schemaTempReadings.registerTempTable(\"tempReadings\")\n",
    "schemaTempReadings.show(10)"
   ]
  },
  {
   "cell_type": "code",
   "execution_count": 36,
   "metadata": {},
   "outputs": [
    {
     "name": "stdout",
     "output_type": "stream",
     "text": [
      "+----+-----+----+\n",
      "|year|month|Temp|\n",
      "+----+-----+----+\n",
      "|2013|   11|10.2|\n",
      "|2014|   04|12.1|\n",
      "|2014|   04|13.1|\n",
      "|2014|   04|14.7|\n",
      "|2014|   04|15.8|\n",
      "|2014|   04|11.8|\n",
      "|2014|   04|13.3|\n",
      "|2014|   04|15.5|\n",
      "|2014|   04|16.6|\n",
      "|2014|   04|17.3|\n",
      "+----+-----+----+\n",
      "only showing top 10 rows\n",
      "\n"
     ]
    }
   ],
   "source": [
    "# we want to know the max and min temp for a specifitc time interval + min temp of 10\n",
    "# time interval >= 1950 & <= 2014\n",
    "# temp > 10\n",
    "schemaTempReadings_filterd_year = schemaTempReadings.select([\"year\", \"month\", \"Temp\"]).filter((schemaTempReadings[\"year\"] >= 1950) &  \n",
    "                                                                                              (schemaTempReadings[\"year\"] <= 2014) & \n",
    "                                                                                              (schemaTempReadings[\"Temp\"] >= 10))\n",
    "schemaTempReadings_filterd_year.show(10)"
   ]
  },
  {
   "cell_type": "code",
   "execution_count": 37,
   "metadata": {},
   "outputs": [
    {
     "name": "stdout",
     "output_type": "stream",
     "text": [
      "+----+-----+-----+\n",
      "|year|month|count|\n",
      "+----+-----+-----+\n",
      "|1959|   07|  112|\n",
      "|1958|   07|  111|\n",
      "|1960|   07|  111|\n",
      "|1957|   07|  109|\n",
      "|1960|   06|  109|\n",
      "|1956|   07|  108|\n",
      "|1959|   08|  105|\n",
      "|1960|   08|  104|\n",
      "|1958|   08|   99|\n",
      "|1959|   06|   98|\n",
      "+----+-----+-----+\n",
      "only showing top 10 rows\n",
      "\n"
     ]
    }
   ],
   "source": [
    "# we want to know the amount of readings \n",
    "schemaTempReadings_readings = schemaTempReadings_filterd.groupBy(\"year\", \"month\").count()\n",
    "schemaTempReadings_readings = schemaTempReadings_readings.sort(\"count\", ascending = False)\n",
    "schemaTempReadings_readings.show(10)"
   ]
  },
  {
   "cell_type": "markdown",
   "metadata": {},
   "source": [
    "*Distinct version*"
   ]
  },
  {
   "cell_type": "code",
   "execution_count": 45,
   "metadata": {},
   "outputs": [
    {
     "name": "stdout",
     "output_type": "stream",
     "text": [
      "+----+-----+-----+\n",
      "|year|month|count|\n",
      "+----+-----+-----+\n",
      "|1960|   06|   79|\n",
      "|1959|   08|   76|\n",
      "|1956|   07|   75|\n",
      "|1959|   07|   74|\n",
      "|1959|   06|   70|\n",
      "|1957|   07|   69|\n",
      "|1958|   07|   64|\n",
      "|1960|   07|   61|\n",
      "|1958|   06|   60|\n",
      "|1960|   08|   59|\n",
      "+----+-----+-----+\n",
      "only showing top 10 rows\n",
      "\n"
     ]
    }
   ],
   "source": [
    "# we want to know the max and min temp for a specifitc time interval + min temp of 10\n",
    "# time interval >= 1950 & <= 2014\n",
    "# temp > 10\n",
    "schemaTempReadings_filterd_distinct = schemaTempReadings.select([\"year\", \"month\", \"Temp\"]).distinct()\\\n",
    ".filter((schemaTempReadings[\"year\"] >= 1950) &  (schemaTempReadings[\"year\"] <= 2014) &  (schemaTempReadings[\"Temp\"] >= 10))\n",
    "\n",
    "# we want to know the amount of readings \n",
    "schemaTempReadings_filterd_distinct = schemaTempReadings_filterd_distinct.groupBy(\"year\", \"month\").count()\n",
    "schemaTempReadings_filterd_distinct = schemaTempReadings_filterd_distinct.sort(\"count\", ascending = False)\n",
    "schemaTempReadings_filterd_distinct.show(10)\n"
   ]
  }
 ],
 "metadata": {
  "kernelspec": {
   "display_name": "Python 3",
   "language": "python",
   "name": "python3"
  },
  "language_info": {
   "codemirror_mode": {
    "name": "ipython",
    "version": 3
   },
   "file_extension": ".py",
   "mimetype": "text/x-python",
   "name": "python",
   "nbconvert_exporter": "python",
   "pygments_lexer": "ipython3",
   "version": "3.6.4"
  }
 },
 "nbformat": 4,
 "nbformat_minor": 2
}
