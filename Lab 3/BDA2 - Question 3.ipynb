{
 "cells": [
  {
   "cell_type": "markdown",
   "metadata": {},
   "source": [
    "__Assignment 3__"
   ]
  },
  {
   "cell_type": "markdown",
   "metadata": {},
   "source": [
    "3) Find the average monthly temperature for each available station in Sweden. Your result should include average temperature for each station for each month in the period of 1960- 2014. Bear in mind that not every station has the readings for each month in this timeframe. In this exercise you will use the *temperature-readings.csv file*.\n",
    "\n",
    "The output should contain the following information:\n",
    "__Year, month, station number, average monthly temperature__"
   ]
  },
  {
   "cell_type": "markdown",
   "metadata": {},
   "source": [
    "For each question include the following data in the report and sort it as shown:\n",
    "- year, month, station, avgMonthlyTemperature ORDER BY avgMonthlyTemperature DESC"
   ]
  },
  {
   "cell_type": "code",
   "execution_count": 1,
   "metadata": {},
   "outputs": [],
   "source": [
    "# create the setup\n",
    "from pyspark import SparkContext\n",
    "from pyspark.sql import SQLContext, Row  \n",
    "from pyspark.sql import functions as F\n",
    "sc =SparkContext()\n",
    "sqlContext=SQLContext(sc)"
   ]
  },
  {
   "cell_type": "code",
   "execution_count": 29,
   "metadata": {},
   "outputs": [],
   "source": [
    "from pyspark.sql.functions import col, round, upper"
   ]
  },
  {
   "cell_type": "code",
   "execution_count": 2,
   "metadata": {},
   "outputs": [],
   "source": [
    "path_unifolder_temp_tiny = \"/Users/phillipholscher/OneDrive - Linköpings universitet/LiU/Statistics and Machine Learning/Spring19T2/Big Data Analytics/Labs/Lab 2/temperature-readings-tiny.csv\"\n"
   ]
  },
  {
   "cell_type": "code",
   "execution_count": 3,
   "metadata": {},
   "outputs": [
    {
     "data": {
      "text/plain": [
       "[Row(Temp=6.8, date='2013-11-01', month='11', quality='G', station='102170', time='06:00:00', year='2013'),\n",
       " Row(Temp=3.8, date='2013-11-01', month='11', quality='G', station='102170', time='18:00:00', year='2013'),\n",
       " Row(Temp=5.8, date='2013-11-02', month='11', quality='G', station='102170', time='06:00:00', year='2013'),\n",
       " Row(Temp=-1.1, date='2013-11-02', month='11', quality='G', station='102170', time='18:00:00', year='2013'),\n",
       " Row(Temp=-0.2, date='2013-11-03', month='11', quality='G', station='102170', time='06:00:00', year='2013'),\n",
       " Row(Temp=5.6, date='2013-11-03', month='11', quality='G', station='102170', time='18:00:00', year='2013'),\n",
       " Row(Temp=6.5, date='2013-11-04', month='11', quality='G', station='102170', time='06:00:00', year='2013'),\n",
       " Row(Temp=5.1, date='2013-11-04', month='11', quality='G', station='102170', time='18:00:00', year='2013'),\n",
       " Row(Temp=4.2, date='2013-11-05', month='11', quality='G', station='102170', time='06:00:00', year='2013'),\n",
       " Row(Temp=3.2, date='2013-11-05', month='11', quality='G', station='102170', time='18:00:00', year='2013')]"
      ]
     },
     "execution_count": 3,
     "metadata": {},
     "output_type": "execute_result"
    }
   ],
   "source": [
    "# read and create rdd, this needs to be tranfsormed to data frame later on\n",
    "temps= sc.textFile(path_unifolder_temp_tiny)\n",
    "parts = temps.map(lambda l:l.split(\";\"))\n",
    "tempReadings = parts.map(lambda p: Row(station=p[0],  date=p[1], year=p[1].split(\"-\")[0], time=p[2],  Temp=float(p[3]), quality=p[4], month=p[1].split(\"-\")[1]))\n",
    "tempReadings.take(10)\n"
   ]
  },
  {
   "cell_type": "code",
   "execution_count": 4,
   "metadata": {},
   "outputs": [
    {
     "name": "stdout",
     "output_type": "stream",
     "text": [
      "+----+----------+-----+-------+-------+--------+----+\n",
      "|Temp|      date|month|quality|station|    time|year|\n",
      "+----+----------+-----+-------+-------+--------+----+\n",
      "| 6.8|2013-11-01|   11|      G| 102170|06:00:00|2013|\n",
      "| 3.8|2013-11-01|   11|      G| 102170|18:00:00|2013|\n",
      "| 5.8|2013-11-02|   11|      G| 102170|06:00:00|2013|\n",
      "|-1.1|2013-11-02|   11|      G| 102170|18:00:00|2013|\n",
      "|-0.2|2013-11-03|   11|      G| 102170|06:00:00|2013|\n",
      "| 5.6|2013-11-03|   11|      G| 102170|18:00:00|2013|\n",
      "| 6.5|2013-11-04|   11|      G| 102170|06:00:00|2013|\n",
      "| 5.1|2013-11-04|   11|      G| 102170|18:00:00|2013|\n",
      "| 4.2|2013-11-05|   11|      G| 102170|06:00:00|2013|\n",
      "| 3.2|2013-11-05|   11|      G| 102170|18:00:00|2013|\n",
      "+----+----------+-----+-------+-------+--------+----+\n",
      "only showing top 10 rows\n",
      "\n"
     ]
    }
   ],
   "source": [
    "# create a data frame from rdd\n",
    "schemaTempReadings =  sqlContext.createDataFrame(tempReadings)\n",
    "schemaTempReadings.registerTempTable(\"tempReadings\")\n",
    "schemaTempReadings.show(10)\n"
   ]
  },
  {
   "cell_type": "code",
   "execution_count": 8,
   "metadata": {},
   "outputs": [
    {
     "name": "stdout",
     "output_type": "stream",
     "text": [
      "+----+-----+-------+----+\n",
      "|year|month|station|Temp|\n",
      "+----+-----+-------+----+\n",
      "|2013|   11| 102170| 6.8|\n",
      "|2013|   11| 102170| 3.8|\n",
      "|2013|   11| 102170| 5.8|\n",
      "|2013|   11| 102170|-1.1|\n",
      "|2013|   11| 102170|-0.2|\n",
      "|2013|   11| 102170| 5.6|\n",
      "|2013|   11| 102170| 6.5|\n",
      "|2013|   11| 102170| 5.1|\n",
      "|2013|   11| 102170| 4.2|\n",
      "|2013|   11| 102170| 3.2|\n",
      "+----+-----+-------+----+\n",
      "only showing top 10 rows\n",
      "\n"
     ]
    }
   ],
   "source": [
    "# filter time interval restrictions\n",
    "schemaTempReadings_filterd = schemaTempReadings.select([\"year\", \"month\",\"station\",\"Temp\"])\\\n",
    ".filter((schemaTempReadings[\"year\"] >= 1960) & (schemaTempReadings[\"year\"] <= 2014) )\n",
    "schemaTempReadings_filterd.show(10)\n"
   ]
  },
  {
   "cell_type": "code",
   "execution_count": 14,
   "metadata": {},
   "outputs": [
    {
     "name": "stdout",
     "output_type": "stream",
     "text": [
      "+----+-----+-------+--------+--------+\n",
      "|year|month|station|Temp_max|Temp_min|\n",
      "+----+-----+-------+--------+--------+\n",
      "|2014|   01| 102170|     6.6|   -19.6|\n",
      "|1960|   07| 102190|    25.0|     6.0|\n",
      "|2014|   10| 102170|    14.7|    -4.5|\n",
      "|1960|   08| 102190|    28.0|     2.8|\n",
      "|1961|   01| 102190|     3.1|   -23.5|\n",
      "|2014|   12| 102170|     5.6|   -24.3|\n",
      "|2014|   09| 102170|    17.6|    -2.3|\n",
      "|1960|   01| 102190|     2.9|   -20.4|\n",
      "|2014|   05| 102170|    24.8|     0.3|\n",
      "|1960|   06| 102190|    29.0|     5.2|\n",
      "+----+-----+-------+--------+--------+\n",
      "only showing top 10 rows\n",
      "\n"
     ]
    }
   ],
   "source": [
    "# to calculate the monthly avg for each station do we need the max and min temp for each month and station\n",
    "schemaTempReadings_max_min = schemaTempReadings_filterd.groupBy(\"year\", \"month\", \"station\")\\\n",
    ".agg(F.max(\"Temp\").alias(\"Temp_max\"),F.min(\"Temp\").alias(\"Temp_min\"))\n",
    "schemaTempReadings_max_min.show(10)\n"
   ]
  },
  {
   "cell_type": "code",
   "execution_count": 16,
   "metadata": {},
   "outputs": [],
   "source": [
    "def avg_temp(max_temp, min_temp):\n",
    "    avg = (max_temp + min_temp)/2\n",
    "    return avg"
   ]
  },
  {
   "cell_type": "code",
   "execution_count": 34,
   "metadata": {},
   "outputs": [
    {
     "name": "stdout",
     "output_type": "stream",
     "text": [
      "+----+-----+-------+--------+--------+--------+\n",
      "|year|month|station|Temp_max|Temp_min|Temp_avg|\n",
      "+----+-----+-------+--------+--------+--------+\n",
      "|2014|   01| 102170|     6.6|   -19.6|    -6.5|\n",
      "|1960|   07| 102190|    25.0|     6.0|    15.5|\n",
      "|2014|   10| 102170|    14.7|    -4.5|     5.1|\n",
      "|1960|   08| 102190|    28.0|     2.8|    15.4|\n",
      "|1961|   01| 102190|     3.1|   -23.5|   -10.2|\n",
      "|2014|   12| 102170|     5.6|   -24.3|    -9.4|\n",
      "|2014|   09| 102170|    17.6|    -2.3|     7.7|\n",
      "|1960|   01| 102190|     2.9|   -20.4|    -8.8|\n",
      "|2014|   05| 102170|    24.8|     0.3|    12.6|\n",
      "|1960|   06| 102190|    29.0|     5.2|    17.1|\n",
      "+----+-----+-------+--------+--------+--------+\n",
      "only showing top 10 rows\n",
      "\n"
     ]
    }
   ],
   "source": [
    "# compute the avg monthly temp for each station\n",
    "schemaTempReadings_avg = schemaTempReadings_max_min.withColumn(\"Temp_avg\", \n",
    "                                                               round(avg_temp(schemaTempReadings_max_min[\"Temp_max\"],\n",
    "                                                                       schemaTempReadings_max_min[\"Temp_min\"]),1))\n",
    "schemaTempReadings_avg.show(10)\n"
   ]
  },
  {
   "cell_type": "code",
   "execution_count": 37,
   "metadata": {},
   "outputs": [
    {
     "name": "stdout",
     "output_type": "stream",
     "text": [
      "+----+-----+-------+--------+\n",
      "|year|month|station|Temp_avg|\n",
      "+----+-----+-------+--------+\n",
      "|2014|   07| 102170|    20.4|\n",
      "|1960|   06| 102190|    17.1|\n",
      "|1960|   07| 102190|    15.5|\n",
      "|1960|   08| 102190|    15.4|\n",
      "|2014|   06| 102170|    15.2|\n",
      "|2014|   08| 102170|    14.8|\n",
      "|2014|   05| 102170|    12.6|\n",
      "|1961|   05| 102190|    10.6|\n",
      "|1960|   05| 102190|     9.9|\n",
      "|1960|   09| 102190|     9.3|\n",
      "+----+-----+-------+--------+\n",
      "only showing top 10 rows\n",
      "\n"
     ]
    }
   ],
   "source": [
    "# sort the avg temp \n",
    "schemaTempReadings_avg_ordered = schemaTempReadings_avg.select([\"year\", \"month\", \"station\", \"Temp_avg\"])\\\n",
    ".orderBy(\"Temp_avg\", ascending = False)\n",
    "\n",
    "schemaTempReadings_avg_ordered.show(10)\n"
   ]
  }
 ],
 "metadata": {
  "kernelspec": {
   "display_name": "Python 3",
   "language": "python",
   "name": "python3"
  },
  "language_info": {
   "codemirror_mode": {
    "name": "ipython",
    "version": 3
   },
   "file_extension": ".py",
   "mimetype": "text/x-python",
   "name": "python",
   "nbconvert_exporter": "python",
   "pygments_lexer": "ipython3",
   "version": "3.6.4"
  }
 },
 "nbformat": 4,
 "nbformat_minor": 2
}
