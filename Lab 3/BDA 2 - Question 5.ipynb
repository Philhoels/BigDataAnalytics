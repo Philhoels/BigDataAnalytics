{
 "cells": [
  {
   "cell_type": "markdown",
   "metadata": {},
   "source": [
    "__Assignment 5__"
   ]
  },
  {
   "cell_type": "markdown",
   "metadata": {},
   "source": [
    "5) Calculate the average monthly precipitation for the Östergotland region (list of stations is provided in the separate file) for the period 1993-2016. In order to do this, you will first need to calculate the total monthly precipitation for each station before calculating the monthly average (by averaging over stations).\n",
    "\n",
    "In this exercise you will use the *precipitation-readings.csv* and *stations-Ostergotland.csv* files. \n",
    "\n",
    "__HINT__ (not for the SparkSQL lab): Avoid using joins here! \n",
    "*stations-Ostergotland.csv* is small and if distributed will cause a number of unnecessary shuffles when joined with precipitation RDD. If you distribute *precipitation-readings.csv* then either repartition your stations RDD to 1 partition or make use of the collect to acquire a python list and broadcast function to broadcast the list to all nodes.\n",
    "\n",
    "The output should contain the following information:\n",
    "__Year, month, average monthly precipitation__\n"
   ]
  },
  {
   "cell_type": "markdown",
   "metadata": {},
   "source": [
    "For each question include the following data in the report and sort it as shown:\n",
    "- year, month, avgMonthlyPrecipitation ORDER BY year DESC, month DESC"
   ]
  },
  {
   "cell_type": "code",
   "execution_count": 1,
   "metadata": {},
   "outputs": [],
   "source": [
    "# create the setup\n",
    "from pyspark import SparkContext\n",
    "from pyspark.sql import SQLContext, Row  \n",
    "from pyspark.sql import functions as F\n",
    "sc =SparkContext()\n",
    "sqlContext=SQLContext(sc)"
   ]
  },
  {
   "cell_type": "code",
   "execution_count": 20,
   "metadata": {},
   "outputs": [],
   "source": [
    "from pyspark.sql.functions import col, round, upper"
   ]
  },
  {
   "cell_type": "code",
   "execution_count": 2,
   "metadata": {},
   "outputs": [],
   "source": [
    "# path to temperature-readings-tiny.csv\n",
    "path_unifolder_precip_tiny = \"/Users/phillipholscher/OneDrive - Linköpings universitet/LiU/Statistics and Machine Learning/Spring19T2/Big Data Analytics/Labs/Lab 2/precipitation-readings-tiny.csv\"\n",
    "path_unifolder_stations = \"/Users/phillipholscher/OneDrive - Linköpings universitet/LiU/Statistics and Machine Learning/Spring19T2/Big Data Analytics/Labs/Lab 2/stations-Ostergotland.csv\"\n"
   ]
  },
  {
   "cell_type": "code",
   "execution_count": 7,
   "metadata": {},
   "outputs": [
    {
     "data": {
      "text/plain": [
       "[Row(Precip=0.0, date='1995-08-01', day='01', month='08', quality='Y', station='103100', time='00:00:00', year='1995'),\n",
       " Row(Precip=0.0, date='1995-08-01', day='01', month='08', quality='Y', station='103100', time='01:00:00', year='1995'),\n",
       " Row(Precip=0.0, date='1995-08-01', day='01', month='08', quality='Y', station='103100', time='02:00:00', year='1995'),\n",
       " Row(Precip=0.0, date='1995-08-01', day='01', month='08', quality='Y', station='103100', time='03:00:00', year='1995'),\n",
       " Row(Precip=0.0, date='1995-08-01', day='01', month='08', quality='Y', station='103100', time='04:00:00', year='1995'),\n",
       " Row(Precip=0.0, date='1995-08-01', day='01', month='08', quality='Y', station='103100', time='05:00:00', year='1995'),\n",
       " Row(Precip=0.0, date='1995-08-01', day='01', month='08', quality='Y', station='103100', time='06:00:00', year='1995'),\n",
       " Row(Precip=0.0, date='1995-08-01', day='01', month='08', quality='Y', station='103100', time='07:00:00', year='1995'),\n",
       " Row(Precip=0.0, date='1995-08-01', day='01', month='08', quality='Y', station='103100', time='08:00:00', year='1995'),\n",
       " Row(Precip=0.0, date='1995-08-01', day='01', month='08', quality='Y', station='103100', time='09:00:00', year='1995')]"
      ]
     },
     "execution_count": 7,
     "metadata": {},
     "output_type": "execute_result"
    }
   ],
   "source": [
    "# read and create rdd, this needs to be tranfsormed to data frame later on\n",
    "precip = sc.textFile(path_unifolder_precip_tiny)\n",
    "parts_precip = precip.map(lambda l:l.split(\";\"))\n",
    "precipReadings = parts_precip.map(lambda p: Row(station=p[0],  date=p[1], year=p[1].split(\"-\")[0], month=p[1].split(\"-\")[1], day=p[1].split(\"-\")[2], time=p[2],  Precip=float(p[3]), quality=p[4]))\n",
    "precipReadings.take(10)\n"
   ]
  },
  {
   "cell_type": "code",
   "execution_count": 8,
   "metadata": {},
   "outputs": [
    {
     "name": "stdout",
     "output_type": "stream",
     "text": [
      "+------+----------+---+-----+-------+-------+--------+----+\n",
      "|Precip|      date|day|month|quality|station|    time|year|\n",
      "+------+----------+---+-----+-------+-------+--------+----+\n",
      "|   0.0|1995-08-01| 01|   08|      Y| 103100|00:00:00|1995|\n",
      "|   0.0|1995-08-01| 01|   08|      Y| 103100|01:00:00|1995|\n",
      "|   0.0|1995-08-01| 01|   08|      Y| 103100|02:00:00|1995|\n",
      "|   0.0|1995-08-01| 01|   08|      Y| 103100|03:00:00|1995|\n",
      "|   0.0|1995-08-01| 01|   08|      Y| 103100|04:00:00|1995|\n",
      "|   0.0|1995-08-01| 01|   08|      Y| 103100|05:00:00|1995|\n",
      "|   0.0|1995-08-01| 01|   08|      Y| 103100|06:00:00|1995|\n",
      "|   0.0|1995-08-01| 01|   08|      Y| 103100|07:00:00|1995|\n",
      "|   0.0|1995-08-01| 01|   08|      Y| 103100|08:00:00|1995|\n",
      "|   0.0|1995-08-01| 01|   08|      Y| 103100|09:00:00|1995|\n",
      "+------+----------+---+-----+-------+-------+--------+----+\n",
      "only showing top 10 rows\n",
      "\n"
     ]
    }
   ],
   "source": [
    "# create a data frame from rdd\n",
    "schemaPrecipReadings =  sqlContext.createDataFrame(precipReadings)\n",
    "schemaPrecipReadings.registerTempTable(\"precipReadings\")\n",
    "schemaPrecipReadings.show(10)"
   ]
  },
  {
   "cell_type": "code",
   "execution_count": 36,
   "metadata": {},
   "outputs": [
    {
     "name": "stdout",
     "output_type": "stream",
     "text": [
      "+-----------+-------+\n",
      "|       name|station|\n",
      "+-----------+-------+\n",
      "|    Örberga|  84260|\n",
      "|  Västra Ny|  85630|\n",
      "|Kettstaka A|  85460|\n",
      "|   Godegård|  85450|\n",
      "| Zinkgruvan|  85490|\n",
      "| Kärnskogen|  85650|\n",
      "|   Kvarn Mo|  85390|\n",
      "|   Finspång|  85410|\n",
      "| Simonstorp|  86470|\n",
      "|Stavsjö Aut|  86440|\n",
      "+-----------+-------+\n",
      "only showing top 10 rows\n",
      "\n"
     ]
    }
   ],
   "source": [
    "# read and create rdd, this needs to be tranfsormed to data frame later on\n",
    "stations = sc.textFile(path_unifolder_stations)\n",
    "# create DataFrame from RDD\n",
    "parts_stations = stations.map(lambda a: a.split(';'))\n",
    "schemaStationsOestergotland = parts_stations.map(lambda x: Row(station = x[0], name = x[1]))\n",
    "schemaStationsOestergotland = sqlContext.createDataFrame(schemaStationsOestergotland)\n",
    "\n",
    "schemaStationsOestergotland.show(10)"
   ]
  },
  {
   "cell_type": "code",
   "execution_count": 37,
   "metadata": {},
   "outputs": [
    {
     "name": "stdout",
     "output_type": "stream",
     "text": [
      "+-------+----+-----+------+\n",
      "|station|year|month|Precip|\n",
      "+-------+----+-----+------+\n",
      "| 103100|1995|   08|   0.0|\n",
      "| 103100|1995|   08|   0.0|\n",
      "| 103100|1995|   08|   0.0|\n",
      "| 103100|1995|   08|   0.0|\n",
      "| 103100|1995|   08|   0.0|\n",
      "| 103100|1995|   08|   0.0|\n",
      "| 103100|1995|   08|   0.0|\n",
      "| 103100|1995|   08|   0.0|\n",
      "| 103100|1995|   08|   0.0|\n",
      "| 103100|1995|   08|   0.0|\n",
      "+-------+----+-----+------+\n",
      "only showing top 10 rows\n",
      "\n"
     ]
    }
   ],
   "source": [
    "# filter for given time interval\n",
    "schemaPrecipReadings_filtered = schemaPrecipReadings\\\n",
    ".select([\"station\", \"year\", \"month\",\"Precip\"])\\\n",
    ".filter((schemaPrecipReadings_filtered[\"year\"] >= 1993) & \n",
    "       (schemaPrecipReadings_filtered[\"year\"] <= 2016))\n",
    "\n",
    "schemaPrecipReadings_filtered.show(10)"
   ]
  },
  {
   "cell_type": "code",
   "execution_count": null,
   "metadata": {},
   "outputs": [],
   "source": [
    "\"\"\"\n",
    "Do not run this cell - the result would be empty because I use the tiny data set\n",
    "\"\"\"\n",
    "# filter for Östergotland stations\n",
    "#schemaPrecipReadings_filtered = schemaPrecipReadings_filtered.join(schemaStationsOestergotland, 'station', 'inner')\n",
    "\n",
    "#schemaPrecipReadings_filtered.show(10)"
   ]
  },
  {
   "cell_type": "code",
   "execution_count": 38,
   "metadata": {},
   "outputs": [
    {
     "name": "stdout",
     "output_type": "stream",
     "text": [
      "+-------+----+-----+------------------+\n",
      "|station|year|month|  Precip_month_sum|\n",
      "+-------+----+-----+------------------+\n",
      "| 103100|1996|   07| 39.10000000000002|\n",
      "| 103100|1996|   03|4.1000000000000005|\n",
      "| 103100|1995|   10|              51.3|\n",
      "| 103100|1996|   10| 33.90000000000002|\n",
      "| 103100|1996|   04|24.700000000000006|\n",
      "| 103100|1996|   02|               4.6|\n",
      "| 103100|1995|   12| 9.599999999999998|\n",
      "| 103100|1996|   01| 5.999999999999999|\n",
      "| 103100|1995|   11| 33.49999999999999|\n",
      "| 103100|1995|   08|              36.5|\n",
      "+-------+----+-----+------------------+\n",
      "only showing top 10 rows\n",
      "\n"
     ]
    }
   ],
   "source": [
    "# compute the avg monthly precip for Östergotland stations\n",
    "# but first we need to comput the total monthy precip for each station\n",
    "schemaPrecipReadings_total_monthly_precip = schemaPrecipReadings_filtered\\\n",
    ".groupBy(\"station\", \"year\", \"month\").agg(F.sum(\"Precip\").alias(\"Precip_month_sum\"))\n",
    "\n",
    "schemaPrecipReadings_total_monthly_precip.show(10)\n"
   ]
  },
  {
   "cell_type": "code",
   "execution_count": 39,
   "metadata": {},
   "outputs": [
    {
     "name": "stdout",
     "output_type": "stream",
     "text": [
      "+----+-----+------------------+\n",
      "|year|month|avg_monthly_precip|\n",
      "+----+-----+------------------+\n",
      "|1996|   10|              33.9|\n",
      "|1996|   09|              48.2|\n",
      "|1996|   08|              41.0|\n",
      "|1996|   07|              39.1|\n",
      "|1996|   06|              59.7|\n",
      "|1996|   05|              62.3|\n",
      "|1996|   04|              24.7|\n",
      "|1996|   03|               4.1|\n",
      "|1996|   02|               4.6|\n",
      "|1996|   01|               6.0|\n",
      "+----+-----+------------------+\n",
      "only showing top 10 rows\n",
      "\n"
     ]
    }
   ],
   "source": [
    "# compute the avg monthly precip for Östergotland stations\n",
    "schemaPrecipReadings_avg_monthly_precip = schemaPrecipReadings_total_monthly_precip\\\n",
    ".groupBy(\"year\", \"month\").agg(round(F.avg(\"Precip_month_sum\"),2).alias(\"avg_monthly_precip\"))\\\n",
    ".orderBy([\"year\", \"month\"], ascending = False)\n",
    "\n",
    "schemaPrecipReadings_avg_monthly_precip.show(10)"
   ]
  }
 ],
 "metadata": {
  "kernelspec": {
   "display_name": "Python 3",
   "language": "python",
   "name": "python3"
  },
  "language_info": {
   "codemirror_mode": {
    "name": "ipython",
    "version": 3
   },
   "file_extension": ".py",
   "mimetype": "text/x-python",
   "name": "python",
   "nbconvert_exporter": "python",
   "pygments_lexer": "ipython3",
   "version": "3.6.4"
  }
 },
 "nbformat": 4,
 "nbformat_minor": 2
}
